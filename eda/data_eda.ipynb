{
 "cells": [
  {
   "cell_type": "code",
   "execution_count": 1,
   "id": "initial_id",
   "metadata": {
    "collapsed": true,
    "jupyter": {
     "outputs_hidden": true
    },
    "ExecuteTime": {
     "end_time": "2024-03-27T15:02:07.786387900Z",
     "start_time": "2024-03-27T15:02:07.240148500Z"
    }
   },
   "source": [
    "import pandas as pd\n",
    "import numpy as np\n",
    "import seaborn as sns\n",
    "import matplotlib.pyplot as plt\n",
    "import os\n",
    "import h5py\n",
    "import wfdb \n",
    "from app.ecg.ecg import Datasets, EcgSignal    "
   ],
   "outputs": []
  },
  {
   "cell_type": "markdown",
   "id": "ee56d786bf6499ce",
   "metadata": {
    "collapsed": false
   },
   "source": [
    "# 1. Исследовательский анализ данных\n",
    "\n"
   ]
  },
  {
   "cell_type": "markdown",
   "id": "f32a92072d79498f",
   "metadata": {
    "collapsed": false
   },
   "source": [
    "## 1.1 Данные: PTBXL \n",
    "[Источник](https://physionet.org/content/ptb-xl/1.0.3/)\n",
    "\n",
    "- ptbxl_data - общий набор данных со ссылками на записи экг\n",
    "- ptbxl_scp_statements - набор данных с описанием диагнозов"
   ]
  },
  {
   "cell_type": "code",
   "source": [
    "sns.set_style(\"whitegrid\")\n"
   ],
   "metadata": {
    "collapsed": false,
    "ExecuteTime": {
     "end_time": "2024-03-27T15:02:07.810186300Z",
     "start_time": "2024-03-27T15:02:07.786387900Z"
    }
   },
   "id": "684d7cb5819eb6a8",
   "execution_count": 2,
   "outputs": []
  },
  {
   "cell_type": "code",
   "source": [
    "sns.set_style(\"darkgrid\")"
   ],
   "metadata": {
    "collapsed": false,
    "ExecuteTime": {
     "end_time": "2024-03-27T15:02:07.864245200Z",
     "start_time": "2024-03-27T15:02:07.797152100Z"
    }
   },
   "id": "1299f84aeaae9724",
   "execution_count": 3,
   "outputs": []
  },
  {
   "cell_type": "code",
   "execution_count": 4,
   "id": "ceef002bf00cf426",
   "metadata": {
    "collapsed": false,
    "ExecuteTime": {
     "end_time": "2024-03-27T15:02:08.091907100Z",
     "start_time": "2024-03-27T15:02:07.812184700Z"
    }
   },
   "source": [
    "ptbxl_data = pd.read_csv(Datasets.ptbxl.path, index_col=0)\n",
    "ptbxl_statements = pd.read_csv(Datasets.ptbxl_scp_statements.path, index_col=0)"
   ],
   "outputs": []
  },
  {
   "cell_type": "code",
   "execution_count": 5,
   "id": "f6d8fd3fc10783b9",
   "metadata": {
    "collapsed": false,
    "ExecuteTime": {
     "end_time": "2024-03-27T15:02:08.169271100Z",
     "start_time": "2024-03-27T15:02:08.092908200Z"
    }
   },
   "source": [
    "ptbxl_data.head()"
   ],
   "outputs": []
  },
  {
   "cell_type": "code",
   "execution_count": 6,
   "id": "419641aa8e84596a",
   "metadata": {
    "collapsed": false,
    "ExecuteTime": {
     "end_time": "2024-03-27T15:02:08.244690500Z",
     "start_time": "2024-03-27T15:02:08.140183500Z"
    }
   },
   "source": [
    "ptbxl_statements"
   ],
   "outputs": []
  },
  {
   "cell_type": "code",
   "execution_count": 7,
   "id": "97c04da5bc863547",
   "metadata": {
    "collapsed": false,
    "ExecuteTime": {
     "end_time": "2024-03-27T15:02:08.317510900Z",
     "start_time": "2024-03-27T15:02:08.193776Z"
    }
   },
   "source": [
    "print(\"Всего уникальных состояний здоровья сердца в датасете:\", len(ptbxl_statements))"
   ],
   "outputs": []
  },
  {
   "cell_type": "code",
   "execution_count": 8,
   "id": "7ec30f6b42d75b66",
   "metadata": {
    "collapsed": false,
    "ExecuteTime": {
     "end_time": "2024-03-27T15:02:08.537424900Z",
     "start_time": "2024-03-27T15:02:08.229699700Z"
    }
   },
   "source": [
    "print(\"Общие уникальные классы:\")\n",
    "ptbxl_statements['diagnostic_class'].unique()"
   ],
   "outputs": []
  },
  {
   "cell_type": "markdown",
   "id": "519729c3dd024a07",
   "metadata": {
    "collapsed": false
   },
   "source": [
    "#### Основные классы:\n",
    "- STTC (ST/T Change - **изменения в ST/T-сегменте**),  5235 записей\n",
    "- NORM (Normal ECG - **нормальный экг**),  9514 записей\n",
    "- MI (Myocardial Infarction - **инфаркт миокарда**),  5469 записей\n",
    "- HYP (Hypertrophy - **гипертрофия**), 2649 записей\n",
    "- CD (Conduction Disturbance - **нарушение проводимости**),  4898 записей\n",
    "\n",
    "\n"
   ]
  },
  {
   "cell_type": "code",
   "execution_count": 9,
   "id": "93e640b1d6aa9239",
   "metadata": {
    "collapsed": false,
    "ExecuteTime": {
     "end_time": "2024-03-27T15:02:08.885579500Z",
     "start_time": "2024-03-27T15:02:08.253839400Z"
    }
   },
   "source": [
    "ptbxl_data.info()"
   ],
   "outputs": []
  },
  {
   "cell_type": "code",
   "execution_count": 10,
   "id": "ca5eaebfae7a899",
   "metadata": {
    "collapsed": false,
    "ExecuteTime": {
     "end_time": "2024-03-27T15:02:09.113933500Z",
     "start_time": "2024-03-27T15:02:08.294401900Z"
    }
   },
   "source": [
    "ptbxl_data['scp_codes']"
   ],
   "outputs": []
  },
  {
   "cell_type": "code",
   "execution_count": 11,
   "id": "bca0383e2429a09e",
   "metadata": {
    "collapsed": false,
    "ExecuteTime": {
     "end_time": "2024-03-27T15:02:09.181751600Z",
     "start_time": "2024-03-27T15:02:08.309457Z"
    }
   },
   "source": [
    "ptbxl_data['scp_codes'].nunique()"
   ],
   "outputs": []
  },
  {
   "cell_type": "code",
   "execution_count": 12,
   "id": "eb7096359e1201bf",
   "metadata": {
    "collapsed": false,
    "ExecuteTime": {
     "end_time": "2024-03-27T15:02:09.384744100Z",
     "start_time": "2024-03-27T15:02:08.330788400Z"
    }
   },
   "source": [
    "d = {'NORM': 100.0, 'SR': 0.0}\n",
    "for k, v in d.items():\n",
    "    if k == 'NORM' and v > 80:\n",
    "        print(k, v)"
   ],
   "outputs": []
  },
  {
   "cell_type": "code",
   "execution_count": 13,
   "id": "38356d8c4e15d9d",
   "metadata": {
    "collapsed": false,
    "ExecuteTime": {
     "end_time": "2024-03-27T15:02:09.388742100Z",
     "start_time": "2024-03-27T15:02:08.342017100Z"
    }
   },
   "source": [
    "ptbxl_statements.info()"
   ],
   "outputs": []
  },
  {
   "cell_type": "code",
   "execution_count": 14,
   "id": "4711eab5e88578f2",
   "metadata": {
    "collapsed": false,
    "ExecuteTime": {
     "end_time": "2024-03-27T15:02:09.440778200Z",
     "start_time": "2024-03-27T15:02:08.360293400Z"
    }
   },
   "source": [
    "ptbxl_statements"
   ],
   "outputs": []
  },
  {
   "cell_type": "code",
   "execution_count": 15,
   "id": "f4144d9f5a7aa2ee",
   "metadata": {
    "collapsed": false,
    "ExecuteTime": {
     "end_time": "2024-03-27T15:02:09.936830900Z",
     "start_time": "2024-03-27T15:02:08.396512900Z"
    }
   },
   "source": [
    "# Приведём данные к нужному типу\n",
    "import ast\n",
    "\n",
    "ptbxl_data['scp_codes'] = ptbxl_data['scp_codes'].apply(lambda x: ast.literal_eval(x))\n",
    "ptbxl_data['patient_id'] = ptbxl_data['patient_id'].astype(int)\n",
    "ptbxl_data['nurse'] = ptbxl_data['nurse'].astype('Int64')\n",
    "ptbxl_data['site'] = ptbxl_data['site'].astype('Int64')\n",
    "ptbxl_data['validated_by'] = ptbxl_data['validated_by'].astype('Int64')\n",
    "\n",
    "ptbxl_scp_data = ptbxl_statements[ptbxl_statements['diagnostic'] == 1]"
   ],
   "outputs": []
  },
  {
   "cell_type": "code",
   "execution_count": 16,
   "id": "c116af7850b4cc8f",
   "metadata": {
    "collapsed": false,
    "ExecuteTime": {
     "end_time": "2024-03-27T15:02:09.983801400Z",
     "start_time": "2024-03-27T15:02:09.238108800Z"
    }
   },
   "source": [
    "display(\n",
    "    ptbxl_data.head(),\n",
    "    ptbxl_data.info()\n",
    ")"
   ],
   "outputs": []
  },
  {
   "cell_type": "code",
   "execution_count": 17,
   "id": "a0d0395e48d95eda",
   "metadata": {
    "collapsed": false,
    "ExecuteTime": {
     "end_time": "2024-03-27T15:02:09.987800900Z",
     "start_time": "2024-03-27T15:02:09.310443300Z"
    }
   },
   "source": [
    "ptbxl_data['strat_fold'].value_counts()"
   ],
   "outputs": []
  },
  {
   "cell_type": "code",
   "execution_count": 18,
   "id": "34ab5e01071756c",
   "metadata": {
    "collapsed": false,
    "ExecuteTime": {
     "end_time": "2024-03-27T15:02:14.726540600Z",
     "start_time": "2024-03-27T15:02:09.328732600Z"
    }
   },
   "source": [
    "def diagnostic_class(scp):\n",
    "    res = set()\n",
    "    for k in scp.keys():\n",
    "        if k in ptbxl_scp_data.index:\n",
    "            res.add(ptbxl_scp_data.loc[k].diagnostic_class)\n",
    "    return list(res)\n",
    "                    \n",
    "ptbxl_data['scp_classes'] = ptbxl_data.scp_codes.apply(diagnostic_class)"
   ],
   "outputs": []
  },
  {
   "cell_type": "code",
   "execution_count": 19,
   "id": "5abe3bfa2530804",
   "metadata": {
    "collapsed": false,
    "ExecuteTime": {
     "end_time": "2024-03-27T15:02:14.788589600Z",
     "start_time": "2024-03-27T15:02:14.723547200Z"
    }
   },
   "source": [
    "ptbxl_data.info()"
   ],
   "outputs": []
  },
  {
   "cell_type": "code",
   "execution_count": 20,
   "id": "ad4dfe81605a0f86",
   "metadata": {
    "collapsed": false,
    "ExecuteTime": {
     "end_time": "2024-03-27T15:02:14.792585500Z",
     "start_time": "2024-03-27T15:02:14.759915Z"
    }
   },
   "source": [
    "ptbxl_data['scp_classes']"
   ],
   "outputs": []
  },
  {
   "cell_type": "code",
   "execution_count": 21,
   "id": "9d250ac2578b21f0",
   "metadata": {
    "collapsed": false,
    "ExecuteTime": {
     "end_time": "2024-03-27T15:04:57.649571400Z",
     "start_time": "2024-03-27T15:02:14.777594600Z"
    }
   },
   "source": [
    "def load_raw_data(df, sampling_rate, path):\n",
    "    if sampling_rate == 100:\n",
    "        data = [wfdb.rdsamp(os.path.join(path, f)) for f in df.filename_lr]\n",
    "    else:\n",
    "        data = [wfdb.rdsamp(os.path.join(path, f)) for f in df.filename_hr]\n",
    "    data = np.array([signal for signal, meta in data])\n",
    "    return data\n",
    "\n",
    "sampling_rate = 100\n",
    "ptbxl_ecg_data = load_raw_data(ptbxl_data, sampling_rate, \n",
    "                               r'C:\\Users\\User\\PycharmProjects\\ecg-service\\data\\ptbxl\\ptb-xl-a-large-publicly-available-electrocardiography-dataset-1.0.3')\n",
    "ptbxl_ecg_data.shape"
   ],
   "outputs": []
  },
  {
   "cell_type": "code",
   "execution_count": 22,
   "id": "578ce9a8d44700d9",
   "metadata": {
    "collapsed": false,
    "ExecuteTime": {
     "end_time": "2024-03-27T15:04:57.789819Z",
     "start_time": "2024-03-27T15:04:57.649571400Z"
    }
   },
   "source": [
    "ptbxl_ecg_data"
   ],
   "outputs": []
  },
  {
   "cell_type": "code",
   "execution_count": 23,
   "id": "dbcd246e07653421",
   "metadata": {
    "collapsed": false,
    "ExecuteTime": {
     "end_time": "2024-03-27T15:05:01.488689500Z",
     "start_time": "2024-03-27T15:04:57.688865200Z"
    }
   },
   "source": [
    "sample = ptbxl_ecg_data[2]\n",
    "bar, axes = plt.subplots(sample.shape[1], 1, figsize=(30,20))\n",
    "for i in range(sample.shape[1]):\n",
    "    sns.lineplot(x=np.arange(sample.shape[0]), y=sample[:, i], ax=axes[i])\n",
    "# plt.tight_layout()\n",
    "plt.show()"
   ],
   "outputs": []
  },
  {
   "cell_type": "code",
   "source": [
    "np.savetxt(r'C:\\Users\\redmi\\Desktop\\ecgs\\ecg_2.txt', sample)\n"
   ],
   "metadata": {
    "collapsed": false,
    "ExecuteTime": {
     "end_time": "2024-03-27T15:05:03.342887400Z",
     "start_time": "2024-03-27T15:05:01.484691600Z"
    }
   },
   "id": "5388d6161308ac65",
   "execution_count": 24,
   "outputs": []
  },
  {
   "cell_type": "code",
   "source": [
    "np.savetxt(r'C:\\Users\\redmi\\Desktop\\ecgs\\ecg_3.txt', sample)"
   ],
   "metadata": {
    "collapsed": false,
    "ExecuteTime": {
     "start_time": "2024-03-27T15:05:03.331893300Z"
    }
   },
   "id": "da55b78791f39727",
   "execution_count": null,
   "outputs": []
  },
  {
   "cell_type": "code",
   "source": [],
   "metadata": {
    "collapsed": false,
    "ExecuteTime": {
     "start_time": "2024-03-27T15:05:03.333892900Z"
    }
   },
   "id": "d757deb1d1c2f128",
   "execution_count": null,
   "outputs": []
  },
  {
   "cell_type": "code",
   "source": [],
   "metadata": {
    "collapsed": false,
    "ExecuteTime": {
     "start_time": "2024-03-27T15:05:03.336890500Z"
    }
   },
   "id": "53464a06dac2ac98",
   "execution_count": null,
   "outputs": []
  },
  {
   "cell_type": "code",
   "execution_count": null,
   "id": "4354213663f51a47",
   "metadata": {
    "collapsed": false,
    "ExecuteTime": {
     "start_time": "2024-03-27T15:05:03.338889300Z"
    }
   },
   "source": [
    "import missingno as msno\n",
    "\n",
    "msno.matrix(ptbxl_data)\n",
    "plt.show()"
   ],
   "outputs": []
  },
  {
   "cell_type": "code",
   "execution_count": null,
   "id": "d5a34e582490a582",
   "metadata": {
    "collapsed": false,
    "ExecuteTime": {
     "start_time": "2024-03-27T15:05:03.341887500Z"
    }
   },
   "source": [],
   "outputs": []
  },
  {
   "cell_type": "code",
   "execution_count": null,
   "id": "1df1b1937ce6e671",
   "metadata": {
    "collapsed": false,
    "ExecuteTime": {
     "end_time": "2024-03-27T15:05:03.411851900Z",
     "start_time": "2024-03-27T15:05:03.344886100Z"
    }
   },
   "source": [],
   "outputs": []
  },
  {
   "cell_type": "code",
   "execution_count": null,
   "id": "895a5f4f723fa209",
   "metadata": {
    "collapsed": false,
    "ExecuteTime": {
     "start_time": "2024-03-27T15:05:03.347884200Z"
    }
   },
   "source": [],
   "outputs": []
  },
  {
   "cell_type": "code",
   "execution_count": 25,
   "id": "ac76f16a417b5951",
   "metadata": {
    "collapsed": false,
    "ExecuteTime": {
     "end_time": "2024-03-27T15:14:42.050615400Z",
     "start_time": "2024-03-27T15:14:41.750181800Z"
    }
   },
   "source": [
    "# Load scp_statements.csv for diagnostic aggregation\n",
    "agg_df = pd.read_csv(Datasets.ptbxl_scp_statements.path, index_col=0)\n",
    "agg_df = agg_df[agg_df.diagnostic == 1]\n",
    "print(agg_df.shape)\n",
    "agg_df.head()"
   ],
   "outputs": []
  },
  {
   "cell_type": "code",
   "execution_count": 26,
   "id": "bc576d09abcb2607",
   "metadata": {
    "collapsed": false,
    "ExecuteTime": {
     "end_time": "2024-03-27T15:14:47.177891100Z",
     "start_time": "2024-03-27T15:14:42.018636500Z"
    }
   },
   "source": [
    "def aggregate_supclass_diagnostic(y_dic):\n",
    "    tmp = []\n",
    "    for key in y_dic.keys():\n",
    "        if key in agg_df.index:\n",
    "            tmp.append(agg_df.loc[key].diagnostic_class)\n",
    "    return list(set(tmp))\n",
    "    \n",
    "# Apply diagnostic superclass\n",
    "ptbxl_data['diagnostic_superclass'] = ptbxl_data.scp_codes.apply(aggregate_supclass_diagnostic)\n",
    "ptbxl_data['diagnostic_superclass_len'] = ptbxl_data['diagnostic_superclass'].apply(len)\n",
    "ptbxl_data.loc[ptbxl_data.diagnostic_superclass_len > 1, 'diagnostic_superclass']"
   ],
   "outputs": []
  },
  {
   "cell_type": "code",
   "execution_count": 27,
   "id": "5281ca44a0126217",
   "metadata": {
    "collapsed": false,
    "ExecuteTime": {
     "end_time": "2024-03-27T15:14:47.643526Z",
     "start_time": "2024-03-27T15:14:47.177891100Z"
    }
   },
   "source": [
    "vc = ptbxl_data['diagnostic_superclass_len'].value_counts()\n",
    "sns.set_style(\"whitegrid\")\n",
    "bar,ax = plt.subplots(figsize=(10,6))\n",
    "ax = sns.barplot(x=vc.index, y=vc.values/vc.values.sum()*100., legend=False, errorbar=None, palette=\"crest\",orient='v' )\n",
    "ax.set_title(\"Распределение длины суперкласса\", fontsize=20)\n",
    "ax.set_xlabel (\"Проценты по всем записям\")\n",
    "ax.set_ylabel (\"Длина суперклассов\")\n",
    "# for rect in ax.patches:\n",
    "#     ax.text (rect.get_width(), rect.get_y() + rect.get_height() / 2,\"%.1f%%\"% rect.get_width(), weight='bold' )"
   ],
   "outputs": []
  },
  {
   "cell_type": "code",
   "execution_count": 28,
   "id": "4b0cd3ab57170e53",
   "metadata": {
    "collapsed": false,
    "ExecuteTime": {
     "end_time": "2024-03-27T15:14:50.816915200Z",
     "start_time": "2024-03-27T15:14:47.644524700Z"
    }
   },
   "source": [
    "def aggregate_subclass_diagnostic(y_dic):\n",
    "    tmp = []\n",
    "    for key in y_dic.keys():\n",
    "        if key in agg_df.index:\n",
    "            tmp.append(agg_df.loc[key].diagnostic_subclass)\n",
    "    ret = list(set(tmp))\n",
    "    ret = ['sub_'+r for r in ret] # to distinguish between subclass and superclass columns\n",
    "    return ret\n",
    "\n",
    "# Apply diagnostic subclass\n",
    "ptbxl_data['diagnostic_subclass'] = ptbxl_data.scp_codes.apply(aggregate_subclass_diagnostic)\n",
    "ptbxl_data['diagnostic_subclass_len'] = ptbxl_data['diagnostic_subclass'].apply(len)\n",
    "ptbxl_data.loc[ptbxl_data.diagnostic_subclass_len > 1, 'diagnostic_subclass']"
   ],
   "outputs": []
  },
  {
   "cell_type": "code",
   "source": [
    "vc = ptbxl_data['diagnostic_subclass_len'].value_counts()\n",
    "\n",
    "sns.set_style(\"whitegrid\")\n",
    "bar,ax = plt.subplots(figsize=(10,6))\n",
    "ax = sns.barplot(x=vc.values/vc.values.sum()*100., y=vc.index, ci=None, palette=\"crest\",orient='h' )\n",
    "ax.set_title(\"Распределение длины подклассов\", fontsize=20)\n",
    "ax.set_xlabel (\"percentage over all samples\")\n",
    "ax.set_ylabel (\"diagnostic_subclass_len\")\n",
    "for rect in ax.patches:\n",
    "    ax.text (rect.get_width(), rect.get_y() + rect.get_height() / 2,\"%.1f%%\"% rect.get_width(), weight='bold' )"
   ],
   "metadata": {
    "collapsed": false,
    "ExecuteTime": {
     "end_time": "2024-03-27T15:14:51.425450900Z",
     "start_time": "2024-03-27T15:14:50.820913Z"
    }
   },
   "id": "f83a0efea3cc1911",
   "execution_count": 29,
   "outputs": []
  },
  {
   "cell_type": "code",
   "source": [
    "all_superclass = pd.Series(np.concatenate(ptbxl_data['diagnostic_superclass'].values))\n",
    "all_subclass = pd.Series(np.concatenate(ptbxl_data['diagnostic_subclass'].values))\n",
    "superclass_cols = all_superclass.unique()\n",
    "subclass_cols = all_subclass.unique()\n",
    "update_cols = np.concatenate([superclass_cols, subclass_cols]) # add meta data columns\n",
    "meta_cols = ['age', 'sex', 'height', 'weight', 'nurse', 'site', 'device',] # could add more columns as features\n"
   ],
   "metadata": {
    "collapsed": false,
    "ExecuteTime": {
     "end_time": "2024-03-27T15:14:51.548750400Z",
     "start_time": "2024-03-27T15:14:51.427450Z"
    }
   },
   "id": "27764b5d1bc39d2d",
   "execution_count": 30,
   "outputs": []
  },
  {
   "cell_type": "code",
   "source": [
    "class ClassUpdate():\n",
    "    def __init__(self, cols):\n",
    "        self.cols = cols\n",
    "\n",
    "    def __call__(self, row):\n",
    "        for sc in row['diagnostic_superclass']:\n",
    "            row[sc] = 1\n",
    "        for sc in row['diagnostic_subclass']:\n",
    "            row[sc] = 1\n",
    "            \n",
    "        return row\n",
    "\n",
    "def get_data_by_folds(folds, x, y, update_cols, feature_cols):\n",
    "    assert len(folds)  > 0, '# of provided folds should longer than 1'\n",
    "    #print(y.strat_fold)\n",
    "    filt = np.isin(y.strat_fold.values, folds)\n",
    "    x_selected = x[filt]\n",
    "    y_selected = y[filt]\n",
    "    \n",
    "    for sc in update_cols:\n",
    "        y_selected[sc] = 0\n",
    "        \n",
    "    cls_updt = ClassUpdate(update_cols)\n",
    "    \n",
    "    y_selected = y_selected.apply(cls_updt, axis=1)\n",
    "    \n",
    "    return x_selected, y_selected[list(feature_cols)+list(update_cols)+['strat_fold']]"
   ],
   "metadata": {
    "collapsed": false,
    "ExecuteTime": {
     "end_time": "2024-03-27T15:14:51.571308600Z",
     "start_time": "2024-03-27T15:14:51.548750400Z"
    }
   },
   "id": "4553e8dd00e0c3c0",
   "execution_count": 31,
   "outputs": []
  },
  {
   "cell_type": "code",
   "source": [
    "x_all, y_all = get_data_by_folds(np.arange(1, 11), ptbxl_ecg_data, ptbxl_data, update_cols, meta_cols)\n"
   ],
   "metadata": {
    "collapsed": false,
    "ExecuteTime": {
     "end_time": "2024-03-27T15:15:10.605598800Z",
     "start_time": "2024-03-27T15:14:51.564313300Z"
    }
   },
   "id": "7783cf49eb3f7337",
   "execution_count": 32,
   "outputs": []
  },
  {
   "cell_type": "code",
   "source": [
    "y_all"
   ],
   "metadata": {
    "collapsed": false,
    "ExecuteTime": {
     "end_time": "2024-03-27T15:15:10.743362Z",
     "start_time": "2024-03-27T15:15:10.606596400Z"
    }
   },
   "id": "82a1fe0f98e4ac5c",
   "execution_count": 33,
   "outputs": []
  },
  {
   "cell_type": "code",
   "source": [
    "vc = y_all[superclass_cols].sum(axis=0)\n",
    "sns.set_style(\"whitegrid\")\n",
    "bar,ax = plt.subplots(figsize=(10,6))\n",
    "ax = sns.barplot(x=vc.values/y_all.shape[0]*100., y=vc.index, palette=\"crest\",orient='h' )\n",
    "ax.set_title(\"Распределение суперклассов\", fontsize=20)\n",
    "ax.set_xlabel (\"Процент записей\")\n",
    "ax.set_ylabel (\"Диагностический суперкласс\")\n",
    "for rect in ax.patches:\n",
    "    ax.text (rect.get_width(), rect.get_y() + rect.get_height() / 2,\"%.1f%%\"% rect.get_width(), weight='bold' )"
   ],
   "metadata": {
    "collapsed": false,
    "ExecuteTime": {
     "end_time": "2024-03-27T15:15:12.186849700Z",
     "start_time": "2024-03-27T15:15:10.709162700Z"
    }
   },
   "id": "fa8bec0fe29ffd0b",
   "execution_count": 34,
   "outputs": []
  },
  {
   "cell_type": "code",
   "source": [],
   "metadata": {
    "collapsed": false,
    "ExecuteTime": {
     "end_time": "2024-03-27T15:15:12.189846500Z",
     "start_time": "2024-03-27T15:15:12.014106900Z"
    }
   },
   "id": "d4a00cc13c820ce4",
   "execution_count": 34,
   "outputs": []
  },
  {
   "cell_type": "code",
   "source": [],
   "metadata": {
    "collapsed": false,
    "ExecuteTime": {
     "end_time": "2024-03-27T15:15:12.237186400Z",
     "start_time": "2024-03-27T15:15:12.022309300Z"
    }
   },
   "id": "d45ffbf613a408f2",
   "execution_count": 34,
   "outputs": []
  },
  {
   "cell_type": "code",
   "source": [
    "vc = y_all[subclass_cols].sum(axis=0)\n",
    "\n",
    "sns.set_style(\"whitegrid\")\n",
    "bar,ax = plt.subplots(figsize=(10,6))\n",
    "ax = sns.barplot(x=vc.values/y_all.shape[0]*100., y=vc.index, palette=\"crest\",orient='h' )\n",
    "ax.set_title(\"Распределение диагностических подклассов\", fontsize=20)\n",
    "ax.set_xlabel (\"Процент записей\")\n",
    "ax.set_ylabel (\"Подкласс\")\n",
    "for rect in ax.patches:\n",
    "    ax.text (rect.get_width(), rect.get_y() + rect.get_height() / 2,\"%.1f%%\"% rect.get_width(), weight='bold' )"
   ],
   "metadata": {
    "collapsed": false,
    "ExecuteTime": {
     "end_time": "2024-03-27T16:26:30.665292300Z",
     "start_time": "2024-03-27T16:26:28.243584700Z"
    }
   },
   "id": "9cd7d26810c152c2",
   "execution_count": 42,
   "outputs": []
  },
  {
   "cell_type": "code",
   "source": [
    "for superclass in superclass_cols:\n",
    "    \n",
    "    vc = y_all.loc[y_all[superclass] == 1][subclass_cols].sum(axis=0)\n",
    "    sns.set_style(\"whitegrid\")\n",
    "    bar,ax = plt.subplots(figsize=(10,6))\n",
    "    ax = sns.barplot(x=vc.values/y_all.shape[0]*100., y=vc.index, ci=None, palette=\"muted\",orient='h' )\n",
    "    ax.set_title(\"{} подклассы\".format(superclass), fontsize=20)\n",
    "    ax.set_xlabel (\"Процент записей\")\n",
    "    ax.set_ylabel (\"Диагностический подкласс\")\n",
    "    for rect in ax.patches:\n",
    "        ax.text (rect.get_width(), rect.get_y() + rect.get_height() / 2,\"%.1f%%\"% rect.get_width(), weight='bold' )"
   ],
   "metadata": {
    "collapsed": false,
    "ExecuteTime": {
     "end_time": "2024-03-27T15:15:18.705027800Z",
     "start_time": "2024-03-27T15:15:13.176769500Z"
    }
   },
   "id": "b055b1891c18a910",
   "execution_count": 36,
   "outputs": []
  },
  {
   "cell_type": "code",
   "source": [
    "fig, ax = plt.subplots(figsize=(10,6))\n",
    "plt.title('Возрастное распределение суперклассов')\n",
    "\n",
    "for superclass in superclass_cols:\n",
    "    data = y_all.loc[y_all[superclass] == 1]['age']   \n",
    "    sns.distplot(data, label=superclass)\n",
    "\n",
    "\n",
    "plt.legend(loc='upper left')\n",
    "plt.show()\n"
   ],
   "metadata": {
    "collapsed": false,
    "ExecuteTime": {
     "end_time": "2024-03-27T15:15:20.018046400Z",
     "start_time": "2024-03-27T15:15:18.709025900Z"
    }
   },
   "id": "84532794a0a6a3ee",
   "execution_count": 37,
   "outputs": []
  },
  {
   "cell_type": "code",
   "source": [
    "fig, ax = plt.subplots(figsize=(10,6))\n",
    "plt.title('Распределение роста суперклассов')\n",
    "\n",
    "for superclass in superclass_cols:\n",
    "    data = y_all.loc[y_all[superclass] == 1][['height']]\n",
    "    sns.distplot(data, label=superclass)\n",
    "\n",
    "plt.legend(labels=superclass_cols, loc='upper left')\n",
    "plt.show()"
   ],
   "metadata": {
    "collapsed": false,
    "ExecuteTime": {
     "end_time": "2024-03-27T15:15:20.990705700Z",
     "start_time": "2024-03-27T15:15:20.020045100Z"
    }
   },
   "id": "9532ef52222b4612",
   "execution_count": 38,
   "outputs": []
  },
  {
   "cell_type": "code",
   "source": [],
   "metadata": {
    "collapsed": false,
    "ExecuteTime": {
     "end_time": "2024-03-27T15:15:21.001699500Z",
     "start_time": "2024-03-27T15:15:20.987786200Z"
    }
   },
   "id": "174d54cac48d66f0",
   "execution_count": 38,
   "outputs": []
  },
  {
   "cell_type": "code",
   "source": [
    "\n",
    "sns.set_style(\"whitegrid\")\n",
    "bar,ax = plt.subplots(figsize=(10,6))\n",
    "    \n",
    "ax.set_title(\"Распределение суперклассов в разрезе пола\", fontsize=20)\n",
    "\n",
    "all_index, all_count, all_values = [], [], []\n",
    "for sex in y_all.sex.unique():\n",
    "    vc = y_all.loc[y_all.sex == sex][superclass_cols].sum(axis=0)\n",
    "    all_index += list(vc.index)\n",
    "    all_count += list(vc.values/y_all.shape[0]*100.)\n",
    "    all_values += [sex]*len(vc)\n",
    "    #print(all_sex)\n",
    "    \n",
    "df = pd.DataFrame()\n",
    "df['diagnositic superclass'] = all_index\n",
    "df['percentage over all samples'] = all_count\n",
    "df['sex'] = all_values\n",
    "    \n",
    "ax = sns.barplot(data=df, x=\"percentage over all samples\", y=\"diagnositic superclass\", hue=\"sex\", orient='h')\n",
    "for rect in ax.patches:\n",
    "    ax.text (rect.get_width(), rect.get_y() + rect.get_height() / 2,\"%.1f%%\"% rect.get_width(), weight='bold')"
   ],
   "metadata": {
    "collapsed": false,
    "ExecuteTime": {
     "end_time": "2024-03-27T15:15:21.567291600Z",
     "start_time": "2024-03-27T15:15:20.993703900Z"
    }
   },
   "id": "74f5d4654ea11b7f",
   "execution_count": 39,
   "outputs": []
  },
  {
   "cell_type": "code",
   "source": [
    "\n",
    "sns.set_style(\"whitegrid\")\n",
    "bar,ax = plt.subplots(figsize=(10,20))\n",
    "    \n",
    "ax.set_title(\"Diagnositic Superclass Distribution of Different Nurse\", fontsize=20)\n",
    "\n",
    "all_index, all_count, all_values = [], [], []\n",
    "for nurse in y_all.nurse.unique():\n",
    "    vc = y_all.loc[y_all.nurse == nurse][superclass_cols].sum(axis=0)\n",
    "    all_index += list(vc.index)\n",
    "    all_count += list(vc.values/y_all.shape[0]*100.)\n",
    "    all_values += [nurse]*len(vc)\n",
    "    #print(all_sex)\n",
    "    \n",
    "df = pd.DataFrame()\n",
    "df['diagnositic superclass'] = all_index\n",
    "df['percentage over all samples'] = all_count\n",
    "df['nurse'] = all_values\n",
    "    \n",
    "ax = sns.barplot(data=df, x=\"percentage over all samples\", y=\"diagnositic superclass\", hue=\"nurse\", orient='h')\n",
    "for rect in ax.patches:\n",
    "    ax.text (rect.get_width(), rect.get_y() + rect.get_height() / 2,\"%.1f%%\"% rect.get_width(), weight='bold')"
   ],
   "metadata": {
    "collapsed": false,
    "ExecuteTime": {
     "end_time": "2024-03-27T15:15:23.030015900Z",
     "start_time": "2024-03-27T15:15:21.564293400Z"
    }
   },
   "id": "9ef80126946d5f18",
   "execution_count": 40,
   "outputs": []
  },
  {
   "cell_type": "code",
   "source": [
    "sns.set_style(\"whitegrid\")\n",
    "bar,ax = plt.subplots(figsize=(10,20))\n",
    "    \n",
    "ax.set_title(\"Распределение суперклассов в зависимости от кардиографа\", fontsize=20)\n",
    "\n",
    "all_index, all_count, all_values = [], [], []\n",
    "for device in y_all.device.unique():\n",
    "    vc = y_all.loc[y_all.device == device][superclass_cols].sum(axis=0)\n",
    "    all_index += list(vc.index)\n",
    "    all_count += list(vc.values/y_all.shape[0]*100.)\n",
    "    all_values += [device]*len(vc)\n",
    "    #print(all_sex)\n",
    "    \n",
    "df = pd.DataFrame()\n",
    "df['diagnositic superclass'] = all_index\n",
    "df['percentage over all samples'] = all_count\n",
    "df['device'] = all_values\n",
    "\n",
    "ax = sns.barplot(data=df, x=\"percentage over all samples\", y=\"diagnositic superclass\", hue=\"device\", orient='h')\n",
    "for rect in ax.patches:\n",
    "    ax.text (rect.get_width(), rect.get_y() + rect.get_height() / 2,\"%.2f%%\"% rect.get_width(), weight='bold')"
   ],
   "metadata": {
    "collapsed": false,
    "ExecuteTime": {
     "end_time": "2024-03-27T15:15:24.429654300Z",
     "start_time": "2024-03-27T15:15:23.027906800Z"
    }
   },
   "id": "a5b966a9976e8c",
   "execution_count": 41,
   "outputs": []
  },
  {
   "cell_type": "code",
   "source": [],
   "metadata": {
    "collapsed": false,
    "ExecuteTime": {
     "end_time": "2024-03-27T15:05:03.849575700Z",
     "start_time": "2024-03-27T15:05:03.411851900Z"
    }
   },
   "id": "3bae6dba611df863",
   "execution_count": null,
   "outputs": []
  },
  {
   "cell_type": "code",
   "source": [],
   "metadata": {
    "collapsed": false,
    "ExecuteTime": {
     "start_time": "2024-03-27T15:05:03.415842300Z"
    }
   },
   "id": "ed4a34205c299979",
   "execution_count": null,
   "outputs": []
  },
  {
   "cell_type": "markdown",
   "source": [],
   "metadata": {
    "collapsed": false
   },
   "id": "1090ae11c445dce4"
  },
  {
   "cell_type": "markdown",
   "id": "8a1a57b78cebc9f9",
   "metadata": {
    "collapsed": false
   },
   "source": [
    "## 1.2 Данные: CODE test\n",
    "[Источник](https://zenodo.org/records/3765780)\n",
    "\n",
    "Содержит 827 записей ЭКГ разных пациентов, аннотированных несколькими кардиологами, ординаторами и студентами-медиками\n",
    "Он содержит аннотации о 6 различных отклонениях ЭКГ:\n",
    "- 1st degree AV block (1dAVb);\n",
    "- right bundle branch block (RBBB);\n",
    "- left bundle branch block (LBBB);\n",
    "- sinus bradycardia (SB);\n",
    "- atrial fibrillation (AF); and,\n",
    "- sinus tachycardia (ST).\n"
   ]
  },
  {
   "cell_type": "code",
   "execution_count": null,
   "id": "7ee4fc68c544c54e",
   "metadata": {
    "collapsed": false,
    "ExecuteTime": {
     "start_time": "2024-03-27T15:05:03.417841400Z"
    }
   },
   "source": [
    "ecg_sample_codetest = EcgSignal.take_sample_codetest(person_idx=2, show=True, zone='II', prep=False)"
   ],
   "outputs": []
  }
 ],
 "metadata": {
  "kernelspec": {
   "display_name": "Python 3 (ipykernel)",
   "language": "python",
   "name": "python3"
  },
  "language_info": {
   "codemirror_mode": {
    "name": "ipython",
    "version": 3
   },
   "file_extension": ".py",
   "mimetype": "text/x-python",
   "name": "python",
   "nbconvert_exporter": "python",
   "pygments_lexer": "ipython3",
   "version": "3.12.2"
  }
 },
 "nbformat": 4,
 "nbformat_minor": 5
}
