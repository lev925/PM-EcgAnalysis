{
 "cells": [
  {
   "cell_type": "code",
   "execution_count": 1,
   "id": "2a8ec33fd3b09926",
   "metadata": {
    "ExecuteTime": {
     "start_time": "2024-05-07T18:21:13.855229Z"
    },
    "collapsed": false,
    "is_executing": true,
    "jupyter": {
     "outputs_hidden": false
    }
   },
   "source": [
    "import os\n",
    "import torch\n",
    "import numpy as np\n",
    "import pandas as pd\n",
    "import wfdb\n",
    "from PIL import Image\n",
    "from matplotlib import pyplot as plt\n",
    "from tqdm import tqdm\n",
    "import seaborn as sns\n",
    "from app.ecg.ecg import Datasets, EcgSignal\n",
    "from sklearn.metrics import confusion_matrix, classification_report\n",
    "\n",
    "ptbxl_data = pd.read_csv(r'C:\\Users\\redmi\\PycharmProjects\\ecg-tool-api\\data\\ptbxl\\labels.csv', index_col=0)\n",
    "# ptbxl_statements = pd.read_csv(Datasets.ptbxl_scp_statements.path, index_col=0)\n",
    "# ptbxl_data['patient_id'] = ptbxl_data['patient_id'].astype(int)\n",
    "# ptbxl_data['nurse'] = ptbxl_data['nurse'].astype('Int64')\n",
    "# ptbxl_data['site'] = ptbxl_data['site'].astype('Int64')\n",
    "# ptbxl_data['validated_by'] = ptbxl_data['validated_by'].astype('Int64')\n"
   ],
   "outputs": []
  },
  {
   "cell_type": "code",
   "execution_count": 4,
   "id": "79b12c273058880e",
   "metadata": {
    "ExecuteTime": {
     "end_time": "2024-05-05T10:02:24.796121Z",
     "start_time": "2024-05-05T10:02:24.415908Z"
    },
    "collapsed": false,
    "jupyter": {
     "outputs_hidden": false
    },
    "scrolled": true
   },
   "source": [
    "ptbxl_data.info()"
   ],
   "outputs": []
  },
  {
   "cell_type": "code",
   "execution_count": 15,
   "id": "4461ee8d19ddae25",
   "metadata": {
    "ExecuteTime": {
     "end_time": "2024-05-05T10:02:33.162618Z",
     "start_time": "2024-05-05T10:02:32.992583Z"
    },
    "collapsed": false,
    "jupyter": {
     "outputs_hidden": false
    }
   },
   "source": [
    "\n",
    "def get_file_paths(filename):\n",
    "    filename_lr = filename.split('/')[-1].split('_')[0]\n",
    "    return fr\"C:\\Users\\redmi\\PycharmProjects\\ecg-tool-api\\data\\ptbxl\\npy_signals100\\{filename_lr}.npy\"\n",
    "\n",
    "clean_tags = lambda x: [e.replace(\"'\", \"\")  for e in x[1:-1].split(', ')]\n",
    "ptbxl_data[\"file_paths\"] = ptbxl_data[\"filename_lr\"].apply(get_file_paths)\n",
    "ptbxl_data[\"superdiagnostic\"] = ptbxl_data[\"superdiagnostic\"].apply(clean_tags)"
   ],
   "outputs": []
  },
  {
   "cell_type": "code",
   "execution_count": 3,
   "id": "e073cf86be1dd6c1",
   "metadata": {
    "ExecuteTime": {
     "end_time": "2024-05-03T10:14:38.419951Z",
     "start_time": "2024-05-03T10:14:38.376211Z"
    },
    "collapsed": false,
    "jupyter": {
     "outputs_hidden": false
    },
    "scrolled": true
   },
   "source": [
    "ptbxl_data"
   ],
   "outputs": []
  },
  {
   "cell_type": "markdown",
   "id": "f62b50150dc67d5e",
   "metadata": {
    "collapsed": false,
    "jupyter": {
     "outputs_hidden": false
    }
   },
   "source": [
    "# Data preparation"
   ]
  },
  {
   "cell_type": "code",
   "execution_count": 16,
   "id": "7b1f96a43fa64a21",
   "metadata": {
    "ExecuteTime": {
     "end_time": "2024-05-05T10:02:33.218017Z",
     "start_time": "2024-05-05T10:02:33.210194Z"
    },
    "collapsed": false,
    "jupyter": {
     "outputs_hidden": false
    }
   },
   "source": [
    "from sklearn.preprocessing import MultiLabelBinarizer\n",
    "mlb = MultiLabelBinarizer()\n",
    "mlb.fit(ptbxl_data[\"superdiagnostic\"].values)\n",
    "mlb.classes_.tolist()"
   ],
   "outputs": []
  },
  {
   "cell_type": "code",
   "execution_count": 17,
   "id": "643096eccfee0d20",
   "metadata": {
    "ExecuteTime": {
     "end_time": "2024-05-05T10:02:34.684948Z",
     "start_time": "2024-05-05T10:02:34.666422Z"
    },
    "collapsed": false,
    "jupyter": {
     "outputs_hidden": false
    }
   },
   "source": [
    "train_labels = mlb.transform(ptbxl_data[\"superdiagnostic\"].tolist())\n",
    "ptbxl_data[mlb.classes_.tolist()] = train_labels"
   ],
   "outputs": []
  },
  {
   "cell_type": "markdown",
   "id": "fd1fb054fea5c0d7",
   "metadata": {
    "collapsed": false,
    "jupyter": {
     "outputs_hidden": false
    }
   },
   "source": [
    "# ECGNet"
   ]
  },
  {
   "cell_type": "code",
   "execution_count": null,
   "id": "90f987bf45fa2937",
   "metadata": {
    "collapsed": false,
    "jupyter": {
     "outputs_hidden": false
    }
   },
   "source": [
    "ecg_idx = pd.read_csv(r'C:\\Users\\redmi\\PycharmProjects\\ecg-tool-api\\data\\ptbxl\\ptbxl_database.csv')\n",
    "ptbxl_data['ecg_id']=ecg_idx['ecg_id']"
   ],
   "outputs": []
  },
  {
   "cell_type": "code",
   "execution_count": 18,
   "id": "fd773df0ca24acfc",
   "metadata": {
    "ExecuteTime": {
     "end_time": "2024-05-05T10:02:39.842853Z",
     "start_time": "2024-05-05T10:02:39.753475Z"
    },
    "collapsed": false,
    "jupyter": {
     "outputs_hidden": false
    }
   },
   "source": [
    "from app.ecg.ecg import EcgDataset\n",
    "\n",
    "valid_df = ptbxl_data[ptbxl_data['strat_fold'] == 9]\n",
    "test_df = ptbxl_data[ptbxl_data['strat_fold'] == 10]\n",
    "\n",
    "dataset = EcgDataset(ptbxl_data)\n",
    "valid_dataset = EcgDataset(valid_df)\n",
    "test_dataset = EcgDataset(test_df)\n"
   ],
   "outputs": []
  },
  {
   "cell_type": "code",
   "execution_count": null,
   "id": "fd0df29906ae7f07",
   "metadata": {
    "collapsed": false,
    "jupyter": {
     "outputs_hidden": false
    }
   },
   "source": [
    "import torch\n",
    "from sklearn.metrics import roc_auc_score\n",
    "from models.ecgnet import ECGNet\n",
    "import matplotlib.pyplot as plt\n",
    "import joblib\n",
    "import numpy as np\n",
    "\n",
    "model = ECGNet()\n",
    "model = model.double()\n",
    "model_weights_path = r'C:\\Users\\redmi\\PycharmProjects\\ecg-tool-api\\models\\pretrained\\ecgnet_weights_authors.pt'\n",
    "model.load_state_dict(torch.load(model_weights_path, map_location=torch.device('cpu')))\n",
    "model.eval()"
   ],
   "outputs": []
  },
  {
   "cell_type": "code",
   "execution_count": null,
   "id": "17e122cee8a95095",
   "metadata": {
    "collapsed": false,
    "jupyter": {
     "outputs_hidden": false
    }
   },
   "source": [
    "ecg, label = valid_dataset[151]\n",
    "label"
   ],
   "outputs": []
  },
  {
   "cell_type": "code",
   "execution_count": null,
   "id": "72cee354f34b6668",
   "metadata": {
    "collapsed": false,
    "jupyter": {
     "outputs_hidden": false
    }
   },
   "source": [
    "prediction = model(ecg)\n",
    "prediction"
   ],
   "outputs": []
  },
  {
   "cell_type": "code",
   "execution_count": null,
   "id": "188244ab06be9ada",
   "metadata": {
    "collapsed": false,
    "jupyter": {
     "outputs_hidden": false
    }
   },
   "source": [
    "softmaxed_pred = torch.softmax(prediction, dim=1).to(torch.float64)"
   ],
   "outputs": []
  },
  {
   "cell_type": "code",
   "execution_count": null,
   "id": "8dc03e5d6448a741",
   "metadata": {
    "collapsed": false,
    "jupyter": {
     "outputs_hidden": false
    }
   },
   "source": [
    "print(softmaxed_pred.detach().numpy(), label.numpy().astype(int))"
   ],
   "outputs": []
  },
  {
   "cell_type": "code",
   "execution_count": null,
   "id": "e35f022bb3993bc7",
   "metadata": {
    "collapsed": false,
    "jupyter": {
     "outputs_hidden": false
    }
   },
   "source": [
    "roc_auc_score(label.numpy().astype(int), prediction.detach().numpy().reshape(-1), average='macro')"
   ],
   "outputs": []
  },
  {
   "cell_type": "code",
   "execution_count": null,
   "id": "decde7d78034b7b",
   "metadata": {
    "collapsed": false,
    "jupyter": {
     "outputs_hidden": false
    }
   },
   "source": [
    "len(test_dataset)"
   ],
   "outputs": []
  },
  {
   "cell_type": "code",
   "execution_count": null,
   "id": "fd5ea4c22e7352cc",
   "metadata": {
    "collapsed": false,
    "jupyter": {
     "outputs_hidden": false
    }
   },
   "source": [
    "gt_all = []\n",
    "pred_all = []\n",
    "\n",
    "for id in tqdm(range(len(test_dataset))):\n",
    "    ecg , label = test_dataset[id]\n",
    "    # print(ecg, label)\n",
    "    prediction = model(ecg)\n",
    "    pred_all.append(prediction.detach().numpy())\n",
    "    gt_all.append(label.detach().numpy().astype(int))\n",
    "gt_all_array = np.vstack(gt_all)\n",
    "pred_all_array = np.vstack(pred_all)\n"
   ],
   "outputs": []
  },
  {
   "cell_type": "code",
   "execution_count": null,
   "id": "ddc156ab483e1dfb",
   "metadata": {
    "collapsed": false,
    "jupyter": {
     "outputs_hidden": false
    }
   },
   "source": [
    "gt_all_array"
   ],
   "outputs": []
  },
  {
   "cell_type": "code",
   "execution_count": null,
   "id": "388958f92c5ac114",
   "metadata": {
    "collapsed": false,
    "jupyter": {
     "outputs_hidden": false
    }
   },
   "source": [],
   "outputs": []
  },
  {
   "cell_type": "code",
   "execution_count": 65,
   "id": "69fb1ec6d2fc8767",
   "metadata": {
    "ExecuteTime": {
     "end_time": "2024-05-05T10:02:49.906375Z",
     "start_time": "2024-05-05T10:02:49.887567Z"
    },
    "collapsed": false,
    "jupyter": {
     "outputs_hidden": false
    }
   },
   "source": [
    "from models.metrics import Metrics, metric_summary, AUC, roc_auc_score\n",
    "\n",
    "\n",
    "def sigmoid(x):\n",
    "    return 1 / (1 + np.exp(-x))\n",
    "\n",
    "\n",
    "def evaluate_model(model, loader):\n",
    "    gt_all = []\n",
    "    pred_all = []\n",
    "    for id in tqdm(range(len(loader))):\n",
    "        ecg , label = loader[id]\n",
    "        # print(ecg, label)\n",
    "        prediction = model(ecg)\n",
    "        # pred_all.append(prediction.detach().numpy())\n",
    "        pred_all.append(prediction.detach().numpy())\n",
    "        # pred_all.append(sigmoid(prediction.detach().numpy()))\n",
    "        gt_all.append(label.detach().numpy().astype(int))\n",
    "    gt_all_array = np.vstack(gt_all)\n",
    "    pred_all_array = np.vstack(pred_all)\n",
    "    roc_score = roc_auc_score(gt_all_array, pred_all_array, average=\"macro\")\n",
    "    acc, mean_acc = Metrics(gt_all_array, pred_all_array)\n",
    "    class_auc = AUC(gt_all_array, pred_all_array)\n",
    "    summary = metric_summary(gt_all_array, pred_all_array)\n",
    "    print(f\"class wise accuracy: {acc}\")\n",
    "    print(f\"accuracy: {mean_acc}\")\n",
    "    print(f\"roc_score : {roc_score}\")\n",
    "    print(f\"class wise AUC : {class_auc}\")\n",
    "    print(f\"F1 score (Max): {summary[0]}\")\n",
    "    print(f\"class wise precision, recall, f1 score : {summary}\")\n",
    "    return gt_all_array, pred_all_array\n",
    "    "
   ],
   "outputs": []
  },
  {
   "cell_type": "code",
   "execution_count": null,
   "id": "39e43fe271d7d9e5",
   "metadata": {
    "collapsed": false,
    "jupyter": {
     "outputs_hidden": false
    }
   },
   "source": [],
   "outputs": []
  },
  {
   "cell_type": "code",
   "execution_count": null,
   "id": "e2ebcdb2582caf93",
   "metadata": {
    "collapsed": false,
    "jupyter": {
     "outputs_hidden": false
    }
   },
   "source": [],
   "outputs": []
  },
  {
   "cell_type": "code",
   "execution_count": null,
   "id": "6152ee2fbb3df21d",
   "metadata": {
    "collapsed": false,
    "jupyter": {
     "outputs_hidden": false
    }
   },
   "source": [],
   "outputs": []
  },
  {
   "cell_type": "code",
   "execution_count": null,
   "id": "508f5172eb2500c9",
   "metadata": {
    "collapsed": false,
    "jupyter": {
     "outputs_hidden": false
    }
   },
   "source": [],
   "outputs": []
  },
  {
   "cell_type": "code",
   "execution_count": null,
   "id": "c6932d76c1837e46",
   "metadata": {
    "collapsed": false,
    "jupyter": {
     "outputs_hidden": false
    }
   },
   "source": [],
   "outputs": []
  },
  {
   "cell_type": "code",
   "execution_count": null,
   "id": "81f6bcc6d4da46c4",
   "metadata": {
    "collapsed": false,
    "jupyter": {
     "outputs_hidden": false
    }
   },
   "source": [],
   "outputs": []
  },
  {
   "cell_type": "markdown",
   "id": "8c59b4c57d529a01",
   "metadata": {
    "collapsed": false,
    "jupyter": {
     "outputs_hidden": false
    }
   },
   "source": [
    "## EcgNet scores"
   ]
  },
  {
   "cell_type": "code",
   "execution_count": null,
   "id": "c04d97fda4adcffa",
   "metadata": {
    "collapsed": false,
    "jupyter": {
     "outputs_hidden": false
    }
   },
   "source": [
    "\n",
    "\n",
    "Metrics(gt_all_array, pred_all_array)"
   ],
   "outputs": []
  },
  {
   "cell_type": "code",
   "execution_count": null,
   "id": "7fea31f2557d4ef3",
   "metadata": {
    "collapsed": false,
    "jupyter": {
     "outputs_hidden": false
    }
   },
   "source": [
    "print(\"ecgNet(ptbxlv1.0.2) - test - aurroc- macro: \", roc_auc_score(gt_all_array, pred_all_array))"
   ],
   "outputs": []
  },
  {
   "cell_type": "code",
   "execution_count": null,
   "id": "65c4559048a28a77",
   "metadata": {
    "collapsed": false,
    "jupyter": {
     "outputs_hidden": false
    }
   },
   "source": [
    "roc_score = roc_auc_score(gt_all_array, pred_all_array, average=\"macro\")\n",
    "acc, mean_acc = Metrics(gt_all_array, pred_all_array)\n",
    "class_auc = AUC(gt_all_array, pred_all_array)\n",
    "summary = metric_summary(gt_all_array, pred_all_array)\n",
    "\n",
    "print(f\"class wise accuracy: {acc}\")\n",
    "print(f\"accuracy: {mean_acc}\")\n",
    "print(f\"roc_score : {roc_score}\")\n",
    "print(f\"class wise AUC : {class_auc}\")\n",
    "print(f\"F1 score (Max): {summary[0]}\")\n",
    "print(f\"class wise precision, recall, f1 score : {summary}\")"
   ],
   "outputs": []
  },
  {
   "cell_type": "code",
   "execution_count": null,
   "id": "705e3a5f3d881f5",
   "metadata": {
    "collapsed": false,
    "jupyter": {
     "outputs_hidden": false
    }
   },
   "source": [
    "pred_all_array"
   ],
   "outputs": []
  },
  {
   "cell_type": "code",
   "execution_count": null,
   "id": "3cd9010427bbacdd",
   "metadata": {
    "collapsed": false,
    "jupyter": {
     "outputs_hidden": false
    }
   },
   "source": [
    "pred_all_array.shape"
   ],
   "outputs": []
  },
  {
   "cell_type": "code",
   "execution_count": null,
   "id": "16c92ca294fc5c39",
   "metadata": {
    "collapsed": false,
    "jupyter": {
     "outputs_hidden": false
    }
   },
   "source": [],
   "outputs": []
  },
  {
   "cell_type": "code",
   "execution_count": null,
   "id": "43dab90f685d0d81",
   "metadata": {
    "collapsed": false,
    "jupyter": {
     "outputs_hidden": false
    }
   },
   "source": [],
   "outputs": []
  },
  {
   "cell_type": "code",
   "execution_count": null,
   "id": "76120faf77a5dae6",
   "metadata": {
    "collapsed": false,
    "jupyter": {
     "outputs_hidden": false
    }
   },
   "source": [
    "print(\"ecgNet - valid - aurroc- macro: \", roc_auc_score(np.vstack(gt_all), np.vstack(pred_all)))"
   ],
   "outputs": []
  },
  {
   "cell_type": "code",
   "execution_count": null,
   "id": "7a5ceeb02518f7b3",
   "metadata": {
    "collapsed": false,
    "jupyter": {
     "outputs_hidden": false
    }
   },
   "source": [],
   "outputs": []
  },
  {
   "cell_type": "code",
   "execution_count": null,
   "id": "68585738728bba96",
   "metadata": {
    "collapsed": false,
    "jupyter": {
     "outputs_hidden": false
    }
   },
   "source": [],
   "outputs": []
  },
  {
   "cell_type": "code",
   "execution_count": null,
   "id": "c097057d1a10e485",
   "metadata": {
    "collapsed": false,
    "jupyter": {
     "outputs_hidden": false
    }
   },
   "source": [],
   "outputs": []
  },
  {
   "cell_type": "markdown",
   "id": "2909445cc75fc42a",
   "metadata": {
    "collapsed": false,
    "jupyter": {
     "outputs_hidden": false
    }
   },
   "source": [
    "# ResNet50 CQT"
   ]
  },
  {
   "cell_type": "code",
   "execution_count": 31,
   "id": "8524b9ff0e471477",
   "metadata": {
    "ExecuteTime": {
     "end_time": "2024-05-02T17:40:21.032667Z",
     "start_time": "2024-05-02T17:40:20.717701Z"
    },
    "collapsed": false,
    "jupyter": {
     "outputs_hidden": false
    },
    "scrolled": true
   },
   "source": [
    "from models.nn.custom_model_cqt import CustomModel\n",
    "from models.config import CqtCFG\n",
    "import torch\n",
    "\n",
    "model_resnet50cqt = CustomModel(CqtCFG)\n",
    "# model = model.double()\n",
    "model_weights_path = r'C:\\Users\\redmi\\PycharmProjects\\ecg-tool-api\\models\\pretrained\\resnet50\\resnet50d_fold9_best_score.pth'\n",
    "model_resnet50cqt.load_state_dict(torch.load(model_weights_path, map_location=torch.device('cpu')), strict=False)\n",
    "model_resnet50cqt.eval()\n"
   ],
   "outputs": []
  },
  {
   "cell_type": "code",
   "execution_count": null,
   "id": "4e583f00aee24c0a",
   "metadata": {
    "collapsed": false,
    "jupyter": {
     "outputs_hidden": false
    }
   },
   "source": [
    "valid_dataset = EcgDataset(valid_df, feature='cqt')\n",
    "test_dataset = EcgDataset(test_df, feature='cqt')"
   ],
   "outputs": []
  },
  {
   "cell_type": "code",
   "execution_count": null,
   "id": "82afc5f7af082c58",
   "metadata": {
    "collapsed": false,
    "jupyter": {
     "outputs_hidden": false
    }
   },
   "source": [
    "cqt_im, label = valid_dataset[0]\n",
    "# cqt_im = cqt_im[None, None, :]\n",
    "cqt_im.shape"
   ],
   "outputs": []
  },
  {
   "cell_type": "code",
   "execution_count": null,
   "id": "8b7d7ebee8990579",
   "metadata": {
    "collapsed": false,
    "jupyter": {
     "outputs_hidden": false
    }
   },
   "source": [
    "model_resnet50cqt(cqt_im)"
   ],
   "outputs": []
  },
  {
   "cell_type": "code",
   "execution_count": 33,
   "id": "3c82b736339110cf",
   "metadata": {
    "ExecuteTime": {
     "end_time": "2024-05-02T17:44:08.154112Z",
     "start_time": "2024-05-02T17:40:48.236478Z"
    },
    "collapsed": false,
    "jupyter": {
     "outputs_hidden": false
    }
   },
   "source": [
    "gt_v, labels_v = evaluate_model(model_resnet50cqt, valid_dataset)"
   ],
   "outputs": []
  },
  {
   "cell_type": "code",
   "execution_count": 34,
   "id": "74b087034a7a72e6",
   "metadata": {
    "ExecuteTime": {
     "end_time": "2024-05-02T17:47:15.006619Z",
     "start_time": "2024-05-02T17:44:08.155180Z"
    },
    "collapsed": false,
    "jupyter": {
     "outputs_hidden": false
    }
   },
   "source": [
    "gt_t, labels_t = evaluate_model(model_resnet50cqt, test_dataset)"
   ],
   "outputs": []
  },
  {
   "cell_type": "code",
   "execution_count": 21,
   "id": "60d5a23779511978",
   "metadata": {
    "ExecuteTime": {
     "end_time": "2024-05-02T17:29:52.588365Z",
     "start_time": "2024-05-02T17:29:52.584387Z"
    },
    "collapsed": false,
    "jupyter": {
     "outputs_hidden": false
    }
   },
   "source": [
    "len(valid_dataset)"
   ],
   "outputs": []
  },
  {
   "cell_type": "code",
   "execution_count": null,
   "id": "6fee1bc7e81045f7",
   "metadata": {
    "collapsed": false,
    "jupyter": {
     "outputs_hidden": false
    }
   },
   "source": [],
   "outputs": []
  },
  {
   "cell_type": "code",
   "execution_count": null,
   "id": "1e37e156c06f6094",
   "metadata": {
    "collapsed": false,
    "jupyter": {
     "outputs_hidden": false
    }
   },
   "source": [],
   "outputs": []
  },
  {
   "cell_type": "code",
   "execution_count": null,
   "id": "a3484bd88496cb4a",
   "metadata": {
    "collapsed": false,
    "jupyter": {
     "outputs_hidden": false
    }
   },
   "source": [
    "from models.nn.xresnet1d import xresnet1d101\n",
    "from models.nn.inception1d import inception1d\n",
    "from models.nn.resnet1d import resnet1d_wang\n",
    "from models.nn.rnn1d import RNN1d\n",
    "\n",
    "def model_factory(model_name):\n",
    "    model = None\n",
    "    if model_name.lower()=='xresnet1d101':\n",
    "        model = xresnet1d101(input_channels=12, num_classes=5)\n",
    "\n",
    "    if model_name.lower()=='resnet1d_dwang':\n",
    "        model = resnet1d_wang(input_channels=12, num_classes=5)\n",
    "\n",
    "    if model_name.lower()=='inception1d_model':\n",
    "        model = inception1d(input_channels=12, num_classes=5)\n",
    "\n",
    "    if model_name.lower()=='rnn_1d':\n",
    "        model = RNN1d(input_channels=12, num_classes=5)\n",
    "\n",
    "    return model"
   ],
   "outputs": []
  },
  {
   "cell_type": "markdown",
   "id": "5020b92e61353f77",
   "metadata": {
    "collapsed": false,
    "jupyter": {
     "outputs_hidden": false
    }
   },
   "source": [
    "# Xresnet1d"
   ]
  },
  {
   "cell_type": "code",
   "execution_count": 41,
   "id": "259e254f991b3dc4",
   "metadata": {
    "ExecuteTime": {
     "end_time": "2024-05-04T11:03:27.002826Z",
     "start_time": "2024-05-04T11:03:26.799545Z"
    },
    "collapsed": false,
    "jupyter": {
     "outputs_hidden": false
    },
    "scrolled": true
   },
   "source": [
    "from models.nn.xresnet1d import xresnet1d101\n",
    "import torch\n",
    "\n",
    "\n",
    "\n",
    "xresnet1d_model = xresnet1d101(input_channels=12, num_classes=5)\n",
    "xresnet1d_model_weights_path = r'C:\\Users\\redmi\\PycharmProjects\\ecg-tool-api\\models\\pretrained\\xresnet1d101\\exp0_xresnet1d101xresnet1d101_fold1_19epoch_best_score.pth'\n",
    "xresnet1d_model.load_state_dict(torch.load(xresnet1d_model_weights_path, map_location=torch.device('cpu'))['model'])\n",
    "xresnet1d_model.double()\n",
    "xresnet1d_model.eval()"
   ],
   "outputs": []
  },
  {
   "cell_type": "code",
   "execution_count": 45,
   "id": "4739d1841f20cdb2",
   "metadata": {
    "ExecuteTime": {
     "end_time": "2024-05-04T11:02:28.714419Z",
     "start_time": "2024-05-04T11:02:27.831688Z"
    },
    "collapsed": false,
    "jupyter": {
     "outputs_hidden": false
    },
    "scrolled": true
   },
   "source": [
    "torch.load(xresnet1d_model_weights_path, map_location=torch.device('cpu'))['model']"
   ],
   "outputs": []
  },
  {
   "cell_type": "code",
   "execution_count": 8,
   "id": "613d40852992bbbe",
   "metadata": {
    "ExecuteTime": {
     "end_time": "2024-05-05T10:03:16.171119Z",
     "start_time": "2024-05-05T10:03:16.148787Z"
    },
    "collapsed": false,
    "jupyter": {
     "outputs_hidden": false
    }
   },
   "source": [
    "ecg, label = valid_dataset[7]\n",
    "ecg.shape"
   ],
   "outputs": []
  },
  {
   "cell_type": "code",
   "execution_count": 52,
   "id": "b884df856a0194a0",
   "metadata": {
    "ExecuteTime": {
     "end_time": "2024-05-04T11:04:18.910536Z",
     "start_time": "2024-05-04T11:04:18.905398Z"
    },
    "collapsed": false,
    "jupyter": {
     "outputs_hidden": false
    }
   },
   "source": [
    "label"
   ],
   "outputs": []
  },
  {
   "cell_type": "code",
   "execution_count": 53,
   "id": "8c5c50d67ffa1660",
   "metadata": {
    "ExecuteTime": {
     "end_time": "2024-05-04T11:04:25.952444Z",
     "start_time": "2024-05-04T11:04:25.896342Z"
    },
    "collapsed": false,
    "jupyter": {
     "outputs_hidden": false
    }
   },
   "source": [
    "xresnet1d_model(ecg)"
   ],
   "outputs": []
  },
  {
   "cell_type": "code",
   "execution_count": 34,
   "id": "11cd0a4c25e804f",
   "metadata": {
    "ExecuteTime": {
     "end_time": "2024-05-04T10:52:04.837719Z",
     "start_time": "2024-05-04T10:52:04.818736Z"
    },
    "collapsed": false,
    "jupyter": {
     "outputs_hidden": false
    }
   },
   "source": [
    "test_dataset[107]"
   ],
   "outputs": []
  },
  {
   "cell_type": "code",
   "execution_count": 54,
   "id": "42169fd9559e83a2",
   "metadata": {
    "ExecuteTime": {
     "end_time": "2024-05-04T11:05:18.905446Z",
     "start_time": "2024-05-04T11:04:39.439766Z"
    },
    "collapsed": false,
    "jupyter": {
     "outputs_hidden": false
    },
    "scrolled": true
   },
   "source": [
    "evaluate_model(xresnet1d_model, test_dataset)"
   ],
   "outputs": []
  },
  {
   "cell_type": "code",
   "execution_count": null,
   "id": "c281602e5abcd0ef",
   "metadata": {
    "collapsed": false,
    "jupyter": {
     "outputs_hidden": false
    }
   },
   "source": [],
   "outputs": []
  },
  {
   "cell_type": "code",
   "execution_count": 55,
   "id": "d70a49075504e06f",
   "metadata": {
    "ExecuteTime": {
     "end_time": "2024-05-04T11:16:16.585190Z",
     "start_time": "2024-05-04T11:15:15.688894Z"
    },
    "collapsed": false,
    "jupyter": {
     "outputs_hidden": false
    },
    "scrolled": true
   },
   "source": [
    "evaluate_model(xresnet1d_model, valid_dataset)"
   ],
   "outputs": []
  },
  {
   "cell_type": "code",
   "execution_count": null,
   "id": "3c26435c-b232-4297-b794-eb976694dac7",
   "metadata": {},
   "source": [],
   "outputs": []
  },
  {
   "cell_type": "code",
   "execution_count": null,
   "id": "6b7ea2ba-a82d-4aba-a925-11932dc4f757",
   "metadata": {},
   "source": [],
   "outputs": []
  },
  {
   "cell_type": "code",
   "execution_count": 42,
   "id": "ea4ca049-4cba-4b40-ba11-44d63fb4febd",
   "metadata": {},
   "source": [
    "evaluate_model(xresnet1d_model, valid_dataset)"
   ],
   "outputs": []
  },
  {
   "cell_type": "code",
   "execution_count": null,
   "id": "e1e86e13f8ee02db",
   "metadata": {
    "collapsed": false,
    "jupyter": {
     "outputs_hidden": false
    }
   },
   "source": [],
   "outputs": []
  },
  {
   "cell_type": "code",
   "execution_count": null,
   "id": "6aa045cef629e4f4",
   "metadata": {
    "collapsed": false,
    "jupyter": {
     "outputs_hidden": false
    }
   },
   "source": [],
   "outputs": []
  },
  {
   "cell_type": "markdown",
   "id": "df9d78f530c6af91",
   "metadata": {
    "collapsed": false,
    "jupyter": {
     "outputs_hidden": false
    }
   },
   "source": [
    "# ResNET1d_wang"
   ]
  },
  {
   "cell_type": "code",
   "execution_count": 43,
   "id": "ec815f0e4f18ea4a",
   "metadata": {
    "ExecuteTime": {
     "end_time": "2024-05-05T10:05:27.154646Z",
     "start_time": "2024-05-05T10:05:27.096772Z"
    },
    "collapsed": false,
    "jupyter": {
     "outputs_hidden": false
    },
    "scrolled": true
   },
   "source": [
    "from models.nn.resnet1d import resnet1d_wang\n",
    "import torch\n",
    "\n",
    "resnet1d_wang_model = resnet1d_wang(input_channels=12, num_classes=5)\n",
    "resnet1d_wang_weights = r'C:\\Users\\redmi\\PycharmProjects\\ecg-tool-api\\models\\pretrained\\resnet1d_wang\\resnet1d_wang_fold1_16epoch_best_score.pth'\n",
    "# xresnet1d_model.load_state_dict(torch.load(xresnet1d_model_weights_path, map_location=torch.device('cpu'))['model'])\n",
    "\n",
    "resnet1d_wang_model.load_state_dict(torch.load(resnet1d_wang_weights, map_location=torch.device('cpu'))['model'])\n",
    "resnet1d_wang_model.double()\n",
    "resnet1d_wang_model.eval()\n",
    "\n"
   ],
   "outputs": []
  },
  {
   "cell_type": "code",
   "execution_count": 11,
   "id": "e5652ef693016177",
   "metadata": {
    "ExecuteTime": {
     "end_time": "2024-05-05T10:05:35.313314Z",
     "start_time": "2024-05-05T10:05:35.204815Z"
    },
    "collapsed": false,
    "jupyter": {
     "outputs_hidden": false
    }
   },
   "source": [
    "resnet1d_wang_model(ecg)"
   ],
   "outputs": []
  },
  {
   "cell_type": "code",
   "execution_count": 12,
   "id": "26d5e2441f0b6d6c",
   "metadata": {
    "ExecuteTime": {
     "end_time": "2024-05-05T10:06:41.431864Z",
     "start_time": "2024-05-05T10:06:00.546513Z"
    },
    "collapsed": false,
    "jupyter": {
     "outputs_hidden": false
    }
   },
   "source": [
    "evaluate_model(resnet1d_wang_model, test_dataset)"
   ],
   "outputs": []
  },
  {
   "cell_type": "code",
   "execution_count": 13,
   "id": "cadd95b1fb8fbebb",
   "metadata": {
    "ExecuteTime": {
     "end_time": "2024-05-05T10:07:21.619464Z",
     "start_time": "2024-05-05T10:06:41.432870Z"
    },
    "collapsed": false,
    "jupyter": {
     "outputs_hidden": false
    }
   },
   "source": [
    "evaluate_model(resnet1d_wang_model, valid_dataset)"
   ],
   "outputs": []
  },
  {
   "cell_type": "code",
   "execution_count": null,
   "id": "f9d283b60ac339a6",
   "metadata": {
    "collapsed": false,
    "jupyter": {
     "outputs_hidden": false
    }
   },
   "source": [],
   "outputs": []
  },
  {
   "cell_type": "code",
   "execution_count": 44,
   "id": "b03ef03e7d067cbb",
   "metadata": {
    "collapsed": false,
    "jupyter": {
     "outputs_hidden": false
    }
   },
   "source": [
    "evaluate_model(resnet1d_wang_model, test_dataset)"
   ],
   "outputs": []
  },
  {
   "cell_type": "code",
   "execution_count": null,
   "id": "7e16fdf5-c1c8-4219-b9ec-7fd9a219112d",
   "metadata": {},
   "source": [],
   "outputs": []
  },
  {
   "cell_type": "markdown",
   "id": "96b0a7466fc1ecba",
   "metadata": {
    "collapsed": false,
    "jupyter": {
     "outputs_hidden": false
    }
   },
   "source": [
    "# Inception1d"
   ]
  },
  {
   "cell_type": "code",
   "execution_count": 82,
   "id": "1f6a3280c064ddc9",
   "metadata": {
    "ExecuteTime": {
     "end_time": "2024-05-04T15:47:39.763439Z",
     "start_time": "2024-05-04T15:47:39.628107Z"
    },
    "collapsed": false,
    "jupyter": {
     "outputs_hidden": false
    },
    "scrolled": true
   },
   "source": [
    "from models.nn.inception1d import inception1d\n",
    "\n",
    "inception1d_model = inception1d(input_channels=12, num_classes=5)\n",
    "inception1d_model_weights_path = r'C:\\Users\\redmi\\PycharmProjects\\ecg-tool-api\\models\\pretrained\\inception1d\\inception1d_fold1_15epoch_best_score.pth'\n",
    "inception1d_model.load_state_dict(torch.load(inception1d_model_weights_path, map_location=torch.device('cpu'))['model'])\n",
    "inception1d_model.double()\n",
    "inception1d_model.eval()"
   ],
   "outputs": []
  },
  {
   "cell_type": "code",
   "execution_count": 58,
   "id": "2b3efc5fe7bab13b",
   "metadata": {
    "ExecuteTime": {
     "end_time": "2024-05-04T15:48:15.479207Z",
     "start_time": "2024-05-04T15:48:15.473927Z"
    },
    "collapsed": false,
    "jupyter": {
     "outputs_hidden": false
    }
   },
   "source": [
    "ecg, label"
   ],
   "outputs": []
  },
  {
   "cell_type": "code",
   "execution_count": 59,
   "id": "edf4f9246a21d763",
   "metadata": {
    "ExecuteTime": {
     "end_time": "2024-05-04T15:48:19.575014Z",
     "start_time": "2024-05-04T15:48:19.392933Z"
    },
    "collapsed": false,
    "jupyter": {
     "outputs_hidden": false
    }
   },
   "source": [
    "inception1d_model(ecg)"
   ],
   "outputs": []
  },
  {
   "cell_type": "code",
   "execution_count": 60,
   "id": "12da7cd388b0670c",
   "metadata": {
    "ExecuteTime": {
     "end_time": "2024-05-04T15:49:49.266640Z",
     "start_time": "2024-05-04T15:49:00.379441Z"
    },
    "collapsed": false,
    "jupyter": {
     "outputs_hidden": false
    }
   },
   "source": [
    "evaluate_model(inception1d_model, test_dataset)"
   ],
   "outputs": []
  },
  {
   "cell_type": "code",
   "execution_count": 62,
   "id": "d2d0b1d6812dee72",
   "metadata": {
    "ExecuteTime": {
     "end_time": "2024-05-04T15:51:55.787331Z",
     "start_time": "2024-05-04T15:51:55.777921Z"
    },
    "collapsed": false,
    "jupyter": {
     "outputs_hidden": false
    }
   },
   "source": [
    "e, l = test_dataset[107]\n",
    "l"
   ],
   "outputs": []
  },
  {
   "cell_type": "code",
   "execution_count": 68,
   "id": "e8e4c565a31a09ff",
   "metadata": {
    "ExecuteTime": {
     "end_time": "2024-05-04T15:59:10.111226Z",
     "start_time": "2024-05-04T15:59:09.983949Z"
    },
    "collapsed": false,
    "jupyter": {
     "outputs_hidden": false
    }
   },
   "source": [
    "torch.softmax(inception1d_model(e), dim=1).detach().numpy()"
   ],
   "outputs": []
  },
  {
   "cell_type": "code",
   "execution_count": 81,
   "id": "c6568a79ef0070ef",
   "metadata": {
    "ExecuteTime": {
     "end_time": "2024-05-04T16:01:15.432635Z",
     "start_time": "2024-05-04T16:01:15.308680Z"
    },
    "collapsed": false,
    "jupyter": {
     "outputs_hidden": false
    }
   },
   "source": [
    "plt.plot(e[0,6].detach().numpy())"
   ],
   "outputs": []
  },
  {
   "cell_type": "code",
   "execution_count": 75,
   "id": "fdeb480032d4c81e",
   "metadata": {
    "ExecuteTime": {
     "end_time": "2024-05-04T16:00:49.768552Z",
     "start_time": "2024-05-04T16:00:49.734224Z"
    },
    "collapsed": false,
    "jupyter": {
     "outputs_hidden": false
    },
    "scrolled": true
   },
   "source": [
    "e[0,1]"
   ],
   "outputs": []
  },
  {
   "cell_type": "code",
   "execution_count": null,
   "id": "cfb71edeb3acefa7",
   "metadata": {
    "collapsed": false,
    "jupyter": {
     "outputs_hidden": false
    }
   },
   "source": [],
   "outputs": []
  },
  {
   "cell_type": "code",
   "execution_count": null,
   "id": "504f15415a04d342",
   "metadata": {
    "collapsed": false,
    "jupyter": {
     "outputs_hidden": false
    }
   },
   "source": [],
   "outputs": []
  },
  {
   "cell_type": "markdown",
   "id": "222339ccd77bf4ea",
   "metadata": {
    "collapsed": false,
    "jupyter": {
     "outputs_hidden": false
    }
   },
   "source": [
    "# RNN1d"
   ]
  },
  {
   "cell_type": "code",
   "execution_count": 17,
   "id": "4baa946bde015adf",
   "metadata": {
    "ExecuteTime": {
     "end_time": "2024-05-03T10:33:49.365070Z",
     "start_time": "2024-05-03T10:33:49.330372Z"
    },
    "collapsed": false,
    "jupyter": {
     "outputs_hidden": false
    }
   },
   "source": [
    "from models.nn.rnn1d import RNN1d\n",
    "\n",
    "rnn1d_model = RNN1d(input_channels=12, num_classes=5)\n",
    "rnn1d_model.double()\n",
    "rnn1d_model.eval()\n",
    "\n"
   ],
   "outputs": []
  },
  {
   "cell_type": "code",
   "execution_count": null,
   "id": "b97a70f5-d26e-4a57-b5ee-4e5394b8257d",
   "metadata": {},
   "source": [],
   "outputs": []
  },
  {
   "cell_type": "code",
   "execution_count": null,
   "id": "6f024b8e-1cdf-45a9-a017-de218c3ce6a7",
   "metadata": {},
   "source": [],
   "outputs": []
  },
  {
   "cell_type": "code",
   "execution_count": null,
   "id": "7c5684eb-ceff-4cbd-a84f-bd004b40b7bd",
   "metadata": {},
   "source": [],
   "outputs": []
  },
  {
   "cell_type": "code",
   "execution_count": null,
   "id": "0d1db7ec-ab1e-42d0-bdce-09047a98d039",
   "metadata": {},
   "source": [],
   "outputs": []
  },
  {
   "cell_type": "markdown",
   "id": "927c92be-f116-47ec-9728-87a211849eaf",
   "metadata": {
    "collapsed": false,
    "jupyter": {
     "outputs_hidden": false
    }
   },
   "source": [
    "# Metrics"
   ]
  },
  {
   "cell_type": "code",
   "execution_count": 85,
   "id": "2e5bcac4-add4-41c0-ba65-650490aba63f",
   "metadata": {},
   "source": [],
   "outputs": []
  },
  {
   "cell_type": "code",
   "execution_count": 14,
   "id": "e4c0848b-3bec-4d00-8079-d66112f984c1",
   "metadata": {},
   "source": [
    "gt, scores = evaluate_model(xresnet1d_model, test_dataset)\n",
    "# cm, y_pred = calculate_metrics(scores)"
   ],
   "outputs": []
  },
  {
   "cell_type": "raw",
   "id": "9cd8734c-fae9-47a2-bf4c-cd719ef07a56",
   "metadata": {},
   "source": [
    "# y_pred=[]\n",
    "# for sample in  tqdm(scores):\n",
    "#   y_pred.append([1 if i>=0.5 else 0 for i in sample ] )\n",
    "# y_pred = np.array(y_pred)\n",
    "# y_pred"
   ]
  },
  {
   "cell_type": "code",
   "execution_count": 60,
   "id": "1a7ea2b2-b36e-4d46-b662-2c47820accbf",
   "metadata": {},
   "source": [
    "from sklearn.metrics import multilabel_confusion_matrix\n",
    "from models.metrics import MR, multilabel_accuracy, zero_one_loss, multilabel_recall, multilabel_precision, multilabel_hamming_loss\n",
    "from sklearn.metrics import multilabel_confusion_matrix, ConfusionMatrixDisplay, classification_report\n",
    "\n",
    "\n",
    "def sigmoid(x):\n",
    "    return 1 / (1 + np.exp(-x))\n",
    "\n",
    "\n",
    "def calculate_metrics(scores):\n",
    "    \n",
    "    y_pred=[]\n",
    "    for sample in  tqdm(scores):\n",
    "      sample = sigmoid(sample)\n",
    "      y_pred.append([1 if i>=0.5 else 0 for i in sample ] )\n",
    "    y_pred = np.array(y_pred)\n",
    "    \n",
    "    confusion_matrix = multilabel_confusion_matrix(gt, y_pred)\n",
    "    print(\"Confusion matrix: \\n\", confusion_matrix)\n",
    "    \n",
    "    match_ratio = MR(gt, y_pred)\n",
    "    print(\"\\nMR: \", match_ratio.round(3))\n",
    "    \n",
    "    mlb_accuracy = multilabel_accuracy(gt, y_pred)\n",
    "    print(\"\\nAccuracy: \", mlb_accuracy.round(3))\n",
    "\n",
    "    zoneloss = zero_one_loss(gt, y_pred)\n",
    "    print(\"\\n0/1Loss: \", zoneloss.round(3))\n",
    "    \n",
    "    mlb_recall = multilabel_recall(gt, y_pred)\n",
    "    print(\"\\nRecall: \", mlb_recall.round(3))\n",
    "    \n",
    "    mlb_precision = multilabel_precision(gt, y_pred)\n",
    "    print(\"\\nPrecision: \", mlb_precision.round(3))\n",
    "    \n",
    "    mlb_hamming_loss = multilabel_hamming_loss(gt, y_pred)\n",
    "    print(\"\\nHamming loss: \", mlb_hamming_loss)\n",
    "\n",
    "    return confusion_matrix, y_pred\n",
    "   \n",
    "\n",
    "   \n"
   ],
   "outputs": []
  },
  {
   "cell_type": "code",
   "execution_count": 84,
   "id": "85f5fb2071e0d9d1",
   "metadata": {
    "collapsed": false,
    "jupyter": {
     "outputs_hidden": false
    }
   },
   "source": [
    "cm, y_pred = calculate_metrics(scores)"
   ],
   "outputs": []
  },
  {
   "cell_type": "code",
   "execution_count": 36,
   "id": "7e1153629844478b",
   "metadata": {
    "collapsed": false,
    "jupyter": {
     "outputs_hidden": false
    }
   },
   "source": [
    "cm[0]"
   ],
   "outputs": []
  },
  {
   "cell_type": "code",
   "execution_count": 80,
   "id": "244877ec-092c-4080-bd8b-75823f7bbc63",
   "metadata": {},
   "source": [
    "## import matplotlib.pyplot as plt\n",
    "from sklearn.metrics import multilabel_confusion_matrix\n",
    "import numpy as np\n",
    "\n",
    "\n",
    "\n",
    "# Определяем названия классов\n",
    "classes = ['CD', 'HYP', 'MI', 'NORM', 'STTC']\n",
    "\n",
    "# Визуализация матриц ошибок в одну строку\n",
    "fig, axes = plt.subplots(1, 5, figsize=(20, 4))\n",
    "\n",
    "for i, (matrix, class_name) in enumerate(zip(cm, classes)):\n",
    "    axes[i].matshow(matrix, cmap=\"Pastel2_r\")\n",
    "    axes[i].set_title(class_name)\n",
    "    for (j, k), value in np.ndenumerate(matrix):\n",
    "        axes[i].text(k, j, f\"{value}\", ha='center', va='center')\n",
    "    axes[i].set_xlabel(\"Predicted label\")\n",
    "    axes[i].set_ylabel(\"True label\")\n",
    "\n",
    "plt.tight_layout()\n",
    "plt.show()\n"
   ],
   "outputs": []
  },
  {
   "cell_type": "code",
   "execution_count": 45,
   "id": "ff19b50b-d2c6-4be0-8e07-5d21aeaae8dd",
   "metadata": {},
   "source": [
    "plot_confusion_matrix(cm, ['CD', 'HYP', 'MI', 'NORM', 'STTC'])"
   ],
   "outputs": []
  },
  {
   "cell_type": "code",
   "execution_count": null,
   "id": "59a3fa63-0fde-4ab1-bf1a-119746f51ae9",
   "metadata": {},
   "source": [],
   "outputs": []
  },
  {
   "cell_type": "code",
   "execution_count": 43,
   "id": "ad6a36b899ecefac",
   "metadata": {
    "collapsed": false,
    "jupyter": {
     "outputs_hidden": false
    },
    "scrolled": true
   },
   "source": [
    "title_size = 16\n",
    "plt.rcParams.update({'font.size':16})\n",
    "display_labels = ['CD', 'HYP', 'MI', 'NORM', 'STTC']  \n",
    "colorbar = False\n",
    "cmap = \"Blues\"  # Try \"Greens\". Change the color of the confusion matrix.\n",
    "## Please see other alternatives at https://matplotlib.org/stable/tutorials/colors/colormaps.html\n",
    "values_format = \".3f\"  # Determine the number of decimal places to be displayed.\n",
    "\n",
    "# Create subplots for given confusion matrices\n",
    "f, axes = plt.subplots(1, 5, figsize=(10, 16))\n",
    "\n",
    "# Plot the first confusion matrix (Model 1) at position (0, 0)\n",
    "axes[0, 0].set_title(\"Model 1\", size=title_size)\n",
    "ConfusionMatrixDisplay(confusion_matrix=cm[0], display_labels=display_labels).plot(\n",
    "    include_values=True, cmap=cmap, ax=axes[0, 1], colorbar=colorbar, values_format=values_format)\n",
    "\n",
    "# # Remove x-axis labels and ticks\n",
    "# axes[0, 0].xaxis.set_ticklabels(['', '', '', ''])\n",
    "# axes[0, 0].set_xlabel('')\n",
    "# axes[0, 0].tick_params(axis='x', which='both', bottom=False, top=False, labelbottom=False)\n",
    "\n",
    "\n",
    "# # Plot the second confusion matrix (Model 2) at position (0, 1)\n",
    "# axes[0, 1].set_title(\"Model 2\", size=title_size)\n",
    "# ConfusionMatrixDisplay(confusion_matrix=cm01, display_labels=display_labels).plot(\n",
    "#     include_values=True, cmap=cmap, ax=axes[0, 1], colorbar=colorbar, values_format=values_format)"
   ],
   "outputs": []
  },
  {
   "cell_type": "code",
   "execution_count": 1,
   "id": "3383d597-9d1a-4d0f-893d-0b4eee25f817",
   "metadata": {},
   "source": [
    "gt"
   ],
   "outputs": []
  },
  {
   "cell_type": "code",
   "execution_count": 92,
   "id": "fc09de78-3e8f-4eea-9494-9cc51a7350f8",
   "metadata": {
    "scrolled": true
   },
   "source": [
    "classification_report(gt, y_pred)"
   ],
   "outputs": []
  },
  {
   "cell_type": "code",
   "execution_count": null,
   "id": "7c0fe4a7-26e7-4311-8225-7351f25016d0",
   "metadata": {},
   "source": [],
   "outputs": []
  },
  {
   "cell_type": "code",
   "execution_count": null,
   "id": "87743deb-b38e-449d-a8f5-8190fcb3fdfa",
   "metadata": {},
   "source": [],
   "outputs": []
  },
  {
   "cell_type": "markdown",
   "id": "3e55c476-a06a-4723-b979-d511986c5fed",
   "metadata": {},
   "source": [
    "# VGG 16"
   ]
  },
  {
   "cell_type": "code",
   "execution_count": 76,
   "id": "e44b2d87-2f0a-4876-8098-049deec529c1",
   "metadata": {},
   "source": [
    "from torch_ecg.utils.utils_nn import adjust_cnn_filter_lengths\n",
    "from torch_ecg.model_configs import ECG_CRNN_CONFIG\n",
    "from torch_ecg.models.ecg_crnn import ECG_CRNN\n",
    "\n",
    "\n",
    "# xresnet1d_model_weights_path = r'C:\\Users\\redmi\\PycharmProjects\\ecg-tool-api\\models\\pretrained\\xresnet1d101\\exp0_xresnet1d101xresnet1d101_fold1_19epoch_best_score.pth'\n",
    "# xresnet1d_model.load_state_dict(torch.load(xresnet1d_model_weights_path, map_location=torch.device('cpu'))['model'])\n",
    "# xresnet1d_model.double()\n",
    "# xresnet1d_model.eval()\n",
    "\n",
    "vgg16_model_weights_path = r'C:\\Users\\redmi\\PycharmProjects\\ecg-tool-api\\models\\pretrained\\vgg16\\vgg16_fold1_10epoch_best_score.pth'\n",
    "config = adjust_cnn_filter_lengths(ECG_CRNN_CONFIG, fs=100)\n",
    "config.cnn.name=\"vgg16\"\n",
    "classes = ['CD', 'HYP', 'MI', 'NORM', 'STTC']\n",
    "n_leads = 12\n",
    "vgg16_model = ECG_CRNN(classes, n_leads, config)\n",
    "vgg16_model.load_state_dict(torch.load(vgg16_model_weights_path, map_location=torch.device('cpu'))['model'])\n",
    "vgg16_model.double()\n",
    "vgg16_model.eval()"
   ],
   "outputs": []
  },
  {
   "cell_type": "code",
   "execution_count": null,
   "id": "7d42829d-8091-48ad-9c2f-08173a8a3593",
   "metadata": {},
   "source": [],
   "outputs": []
  },
  {
   "cell_type": "code",
   "execution_count": null,
   "id": "3e0ec087-1da8-445a-8004-bf3362b52495",
   "metadata": {},
   "source": [],
   "outputs": []
  },
  {
   "cell_type": "code",
   "execution_count": 25,
   "id": "00d1c440-7f73-4159-b2e4-4e153c630c4c",
   "metadata": {},
   "source": [
    "gt, scores = evaluate_model(vgg16_model, test_dataset)"
   ],
   "outputs": []
  },
  {
   "cell_type": "code",
   "execution_count": 66,
   "id": "03012d78-18e2-4604-8205-e79dc26f9bc9",
   "metadata": {},
   "source": [
    "gt, scores = evaluate_model(vgg16_model, test_dataset)"
   ],
   "outputs": []
  },
  {
   "cell_type": "code",
   "execution_count": 67,
   "id": "db5810da-28aa-4302-a382-282c30589912",
   "metadata": {},
   "source": [
    "cm, y_pred = calculate_metrics(scores)"
   ],
   "outputs": []
  },
  {
   "cell_type": "code",
   "execution_count": 72,
   "id": "0e3eea9f-7ae6-4515-9807-74ebe4c17153",
   "metadata": {},
   "source": [
    "print(classification_report(gt, y_pred, target_names=classes))"
   ],
   "outputs": []
  },
  {
   "cell_type": "code",
   "execution_count": null,
   "id": "da395985-5929-45f7-af7c-920c569ac536",
   "metadata": {},
   "source": [],
   "outputs": []
  },
  {
   "cell_type": "code",
   "execution_count": null,
   "id": "ae1ba949-4ff5-420e-b096-d7a12643f9b0",
   "metadata": {},
   "source": [],
   "outputs": []
  },
  {
   "cell_type": "code",
   "execution_count": null,
   "id": "074fd062-74b2-481b-8533-47a989eb2f49",
   "metadata": {},
   "source": [],
   "outputs": []
  },
  {
   "cell_type": "code",
   "execution_count": null,
   "id": "07a79672-522f-437f-9c21-9f8e955c2ab5",
   "metadata": {},
   "source": [],
   "outputs": []
  },
  {
   "cell_type": "markdown",
   "id": "e4844a08-7c23-40e4-a3b2-5ff666761c7c",
   "metadata": {},
   "source": [
    "# MobileNet\n"
   ]
  },
  {
   "cell_type": "code",
   "execution_count": 27,
   "id": "9ce69a37-3a9d-4a6a-825d-fef069afa5e3",
   "metadata": {},
   "source": [
    "mobilenet_model_weights_path = r'C:\\Users\\redmi\\PycharmProjects\\ecg-tool-api\\models\\pretrained\\mobilenet\\mobilenet_v3_fold1_3epoch_best_score.pth'\n",
    "config = adjust_cnn_filter_lengths(ECG_CRNN_CONFIG, fs=100)\n",
    "config.cnn.name=\"mobilenet_v3\"\n",
    "classes = ['CD', 'HYP', 'MI', 'NORM', 'STTC']\n",
    "n_leads = 12\n",
    "mobilenet = ECG_CRNN(classes, n_leads, config)\n",
    "mobilenet.load_state_dict(torch.load(mobilenet_model_weights_path, map_location=torch.device('cpu'))['model'])\n",
    "mobilenet.double()\n",
    "mobilenet.eval()"
   ],
   "outputs": []
  },
  {
   "cell_type": "code",
   "execution_count": 29,
   "id": "ed89cf24-d23e-4d17-9ad8-d0cdd916545e",
   "metadata": {},
   "source": [
    "gt, scores = evaluate_model(mobilenet, test_dataset)"
   ],
   "outputs": []
  },
  {
   "cell_type": "code",
   "execution_count": null,
   "id": "7fc58a5e-16fa-43ce-b7a2-5f36435afc0a",
   "metadata": {},
   "source": [],
   "outputs": []
  },
  {
   "cell_type": "code",
   "execution_count": null,
   "id": "acebcf7d-575c-4d82-8b74-c38e2e34cb00",
   "metadata": {},
   "source": [],
   "outputs": []
  },
  {
   "cell_type": "code",
   "execution_count": null,
   "id": "6b16741e-82e3-4d10-8a61-d73fd3775349",
   "metadata": {},
   "source": [],
   "outputs": []
  },
  {
   "cell_type": "code",
   "execution_count": null,
   "id": "67e97504-ca84-4f9d-a440-d8d79b2142b5",
   "metadata": {},
   "source": [],
   "outputs": []
  },
  {
   "cell_type": "markdown",
   "id": "6515e63a-3d6d-420b-b2f1-3d73e8ea0371",
   "metadata": {},
   "source": [
    "# RegNet"
   ]
  },
  {
   "cell_type": "code",
   "execution_count": 30,
   "id": "e242792f-2d38-4650-a0ea-ff422b65004b",
   "metadata": {},
   "source": [
    "# C:\\Users\\redmi\\PycharmProjects\\ecg-tool-api\\models\\pretrained\\regnet\\regnet_27_24_fold1_10epoch_best_score.pth\n",
    "regnet_model_weights_path = r'C:\\Users\\redmi\\PycharmProjects\\ecg-tool-api\\models\\pretrained\\regnet\\regnet_27_24_fold1_10epoch_best_score.pth'\n",
    "config = adjust_cnn_filter_lengths(ECG_CRNN_CONFIG, fs=100)\n",
    "config.cnn.name=\"regnet_27_24\"\n",
    "classes = ['CD', 'HYP', 'MI', 'NORM', 'STTC']\n",
    "n_leads = 12\n",
    "regnet = ECG_CRNN(classes, n_leads, config)\n",
    "regnet.load_state_dict(torch.load(regnet_model_weights_path, map_location=torch.device('cpu'))['model'])\n",
    "regnet.double()\n",
    "regnet.eval()"
   ],
   "outputs": []
  },
  {
   "cell_type": "code",
   "execution_count": 31,
   "id": "53cb1722-ce3a-4821-b0f6-efe9d04ac221",
   "metadata": {},
   "source": [
    "gt, scores = evaluate_model(regnet, test_dataset)"
   ],
   "outputs": []
  },
  {
   "cell_type": "code",
   "execution_count": 38,
   "id": "283181e6-726b-4ffc-90b5-04efda6d41ff",
   "metadata": {},
   "source": [
    "gt, scores = evaluate_model(regnet, test_dataset)"
   ],
   "outputs": []
  },
  {
   "cell_type": "code",
   "execution_count": 39,
   "id": "48ddf3c4-d3a6-47d0-937a-eb7a76d9574c",
   "metadata": {},
   "source": [
    "scores"
   ],
   "outputs": []
  },
  {
   "cell_type": "code",
   "execution_count": null,
   "id": "15dc3eb7-f6d5-4b8b-a774-f44012cebb71",
   "metadata": {},
   "source": [],
   "outputs": []
  },
  {
   "cell_type": "code",
   "execution_count": null,
   "id": "96065571-980f-4f09-abbb-1252e4ae858b",
   "metadata": {},
   "source": [],
   "outputs": []
  },
  {
   "cell_type": "code",
   "execution_count": 75,
   "id": "b3561939-f743-4cbc-a356-54aa58d64aaa",
   "metadata": {},
   "source": [
    "config"
   ],
   "outputs": []
  },
  {
   "cell_type": "code",
   "execution_count": 107,
   "id": "73fe868c-fb02-4944-8407-1f40a41141a4",
   "metadata": {},
   "source": [
    "import torchvision\n",
    "from torchview import draw_graph\n",
    "# import\n",
    "\n",
    "model_graph = draw_graph(inception1d(input_channels=12, num_classes=5), input_size=( 1, 12, 1000), expand_nested=True)\n",
    "model_graph.visual_graph"
   ],
   "outputs": []
  },
  {
   "cell_type": "code",
   "execution_count": 110,
   "id": "24d93f57-2705-4039-8d92-79deba2da494",
   "metadata": {},
   "source": [
    "config = adjust_cnn_filter_lengths(ECG_CRNN_CONFIG, fs=100)\n",
    "config.cnn.name=\"vgg16\"\n",
    "classes = ['CD', 'HYP', 'MI', 'NORM', 'STTC']\n",
    "n_leads = 12\n",
    "# vgg16_model = ECG_CRNN(classes, n_leads, config)\n",
    "\n",
    "\n",
    "\n",
    "model_graph = draw_graph(ECG_CRNN(classes, n_leads, config), input_size=(1, 12, 1000), expand_nested=True)\n",
    "model_graph.visual_graph"
   ],
   "outputs": []
  },
  {
   "cell_type": "code",
   "execution_count": 9,
   "id": "1799baab-cbcd-4889-b06f-4795def01f1b",
   "metadata": {},
   "source": [
    "class SimpleRNN(torch.nn.Module):\n",
    "    \"\"\"Simple RNN\"\"\"\n",
    "\n",
    "    def __init__(self, inplace: bool = True) -> None:\n",
    "        super().__init__()\n",
    "        self.hid_dim = 2\n",
    "        self.input_dim = 3\n",
    "        self.max_length = 4\n",
    "        self.lstm = torch.nn.LSTMCell(self.input_dim, self.hid_dim)\n",
    "        self.activation = torch.nn.LeakyReLU(inplace=inplace)\n",
    "        self.projection = torch.nn.Linear(self.hid_dim, self.input_dim)\n",
    "\n",
    "    def forward(self, token_embedding: torch.Tensor) -> torch.Tensor:\n",
    "        b_size = token_embedding.size()[0]\n",
    "        hx = torch.randn(b_size, self.hid_dim, device=token_embedding.device)\n",
    "        cx = torch.randn(b_size, self.hid_dim, device=token_embedding.device)\n",
    "\n",
    "        for _ in range(self.max_length):\n",
    "            hx, cx = self.lstm(token_embedding, (hx, cx))\n",
    "            hx = self.activation(hx)\n",
    "\n",
    "        return hx"
   ],
   "outputs": []
  },
  {
   "cell_type": "code",
   "execution_count": 97,
   "id": "6f10692a-cd74-4a9a-bfb5-ec7d08e902cd",
   "metadata": {},
   "source": [
    "model_graph_1 = draw_graph(\n",
    "    SimpleRNN(), input_size=(2, 3),\n",
    "    graph_name='RecursiveNet',\n",
    "    roll=True\n",
    ")"
   ],
   "outputs": []
  },
  {
   "cell_type": "code",
   "execution_count": 100,
   "id": "11414e43-6885-4051-bef8-f9c72f322d16",
   "metadata": {},
   "source": [
    "import os\n",
    "os.environ[\"PATH\"] += os.pathsep + 'C:/Program Files (x86)/Graphviz-11.0.0-win64/bin/'\n",
    "model_graph_1.visual_graph"
   ],
   "outputs": []
  },
  {
   "cell_type": "code",
   "execution_count": null,
   "id": "2186dd52-2dcd-4f1d-960c-82479be7c614",
   "metadata": {},
   "source": [],
   "outputs": []
  },
  {
   "cell_type": "code",
   "execution_count": 11,
   "id": "8d39f4e6-f25d-46f4-8139-041fd3dec5ad",
   "metadata": {},
   "source": [
    "## import hiddenlayer as hl\n",
    "import torchvision\n",
    "import torch\n",
    "from torchview import draw_graph\n",
    "import os\n",
    "\n",
    "os.environ[\"PATH\"] += os.pathsep + 'C:/Program Files (x86)/Graphviz-11.0.0-win64/bin/'\n",
    "\n",
    "# AlexNet\n",
    "model = torchvision.models.alexnet()\n",
    "\n",
    "# Build HiddenLayer graph\n",
    "hl_graph = hl.build_graph(SimpleRNN(), torch.zeros([2, 3])).build_dot()\n",
    "\n",
    "# Use a different color theme\n",
    "hl_graph.theme = hl.graph.THEMES[\"blue\"].copy()  # Two options: basic and blue\n",
    "hl_graph"
   ],
   "outputs": []
  },
  {
   "cell_type": "code",
   "execution_count": 113,
   "id": "b2c3db97-262c-4acc-9bf5-13fd83eade44",
   "metadata": {},
   "source": [
    "model"
   ],
   "outputs": []
  }
 ],
 "metadata": {
  "kernelspec": {
   "display_name": "Python 3 (ipykernel)",
   "language": "python",
   "name": "python3"
  },
  "language_info": {
   "codemirror_mode": {
    "name": "ipython",
    "version": 3
   },
   "file_extension": ".py",
   "mimetype": "text/x-python",
   "name": "python",
   "nbconvert_exporter": "python",
   "pygments_lexer": "ipython3",
   "version": "3.12.2"
  }
 },
 "nbformat": 4,
 "nbformat_minor": 5
}
