{
 "cells": [
  {
   "cell_type": "code",
   "execution_count": 1,
   "metadata": {
    "collapsed": true,
    "ExecuteTime": {
     "end_time": "2023-06-15T11:57:50.897561845Z",
     "start_time": "2023-06-15T11:57:49.754089994Z"
    }
   },
   "source": [
    "import pandas as pd\n",
    "import numpy as np\n",
    "from ecg import EcgSignal\n",
    "import matplotlib.pyplot as plt\n",
    "\n",
    "ecg = EcgSignal()\n",
    "sample = ecg.take_sample_zenodo(10, show=True)\n",
    "\n",
    "\n"
   ],
   "outputs": []
  },
  {
   "cell_type": "code",
   "execution_count": 2,
   "source": [
    "ecg.plot_sample(sample)\n"
   ],
   "metadata": {
    "collapsed": false,
    "ExecuteTime": {
     "end_time": "2023-06-15T11:57:51.606034818Z",
     "start_time": "2023-06-15T11:57:50.917625609Z"
    }
   },
   "outputs": []
  },
  {
   "cell_type": "code",
   "execution_count": 4,
   "source": [
    "r_peaks = ecg.detect_r_peaks(sample, 0.7, 200, True)"
   ],
   "metadata": {
    "collapsed": false,
    "ExecuteTime": {
     "end_time": "2023-06-15T11:59:15.907863690Z",
     "start_time": "2023-06-15T11:59:14.899121169Z"
    }
   },
   "outputs": []
  }
 ],
 "metadata": {
  "kernelspec": {
   "display_name": "Python 3",
   "language": "python",
   "name": "python3"
  },
  "language_info": {
   "codemirror_mode": {
    "name": "ipython",
    "version": 2
   },
   "file_extension": ".py",
   "mimetype": "text/x-python",
   "name": "python",
   "nbconvert_exporter": "python",
   "pygments_lexer": "ipython2",
   "version": "2.7.6"
  }
 },
 "nbformat": 4,
 "nbformat_minor": 0
}
